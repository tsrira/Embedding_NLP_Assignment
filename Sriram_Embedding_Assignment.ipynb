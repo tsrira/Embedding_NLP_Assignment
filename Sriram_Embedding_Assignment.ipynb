{
  "nbformat": 4,
  "nbformat_minor": 0,
  "metadata": {
    "colab": {
      "provenance": []
    },
    "kernelspec": {
      "name": "python3",
      "display_name": "Python 3"
    },
    "language_info": {
      "name": "python"
    }
  },
  "cells": [
    {
      "cell_type": "markdown",
      "source": [
        "#**EMBEDDING ASSIGNMENT**\n",
        "\n",
        "**Problem Statement:**\n",
        "\n",
        "This assignment aims to explore various text embedding techniques using a chosen dataset. By\n",
        "implementing different embedding methods such as Bag of Words, TF-IDF, Word2Vec, GloVe,\n",
        "and FastText, students will gain a deeper understanding of how to convert text into numerical\n",
        "representations. These embeddings will be used to analyze and extract meaningful insights\n",
        "from the dataset.\n",
        "\n",
        "**Guidelines:**\n",
        "\n",
        "1. Foundational Knowledge:\n",
        "  - Understand the principles of different embedding techniques and their applications.\n",
        "  - Familiarize yourself with the concepts of vector space models, word embeddings, and the\n",
        "significance of context in text representation.\n",
        "  - Recognize the strengths and limitations of each embedding technique.\n",
        "\n",
        "2. Embedding Techniques Implementation:\n",
        "  - Bag of Words (BoW): Implement the BoW model to represent text as a sparse matrix of word\n",
        "counts.\n",
        "  - TF-IDF: Apply the TF-IDF model to weigh the importance of words in the text based on their\n",
        "frequency and inverse document frequency.\n",
        "  - Word2Vec: Train a Word2Vec model to capture the semantic relationships between words\n",
        "using the skip-gram or continuous bag of words (CBOW) approach.\n",
        "  - GloVe: Use pre-trained GloVe embeddings or train a GloVe model on the dataset to capture\n",
        "global word-word co-occurrence statistics.\n",
        "  - FastText: Implement FastText embeddings to consider subword information and improve the\n",
        "representation of rare words."
      ],
      "metadata": {
        "id": "4-A4j0U8sJC6"
      }
    },
    {
      "cell_type": "markdown",
      "source": [
        "**What is Embedding in NLP?**\n",
        "\n",
        "Embedding is a technique used to convert words, phrases, or documents into numerical vectors — i.e., fixed-size arrays of real numbers — so that machines can process textual data effectively.\n",
        "\n",
        "\n",
        "**Why Do We Need Embeddings?**\n",
        "\n",
        "Computers can’t directly understand text like \"cat\" or \"run\" — they need numbers.\n",
        "Embedding transforms words into numbers while preserving their meaning or context.\n",
        "\n",
        "**Definition**\n",
        "\n",
        "Embedding is a mapping from a discrete space (like words) to a continuous vector space, where semantic similarity is preserved.\n",
        "\n",
        "**Real-World Analogy**\n",
        "\n",
        "Think of word embeddings like GPS coordinates for words.\n",
        "Words with similar \"meaning\" lie closer on this semantic map."
      ],
      "metadata": {
        "id": "ht38wPt1w-is"
      }
    },
    {
      "cell_type": "markdown",
      "source": [
        "#**1. Setup and Data Preparation**"
      ],
      "metadata": {
        "id": "ksT_n8aDNHAe"
      }
    },
    {
      "cell_type": "markdown",
      "source": [
        "# 1.1 Import necessary libraries"
      ],
      "metadata": {
        "id": "VWnoBveOKwcY"
      }
    },
    {
      "cell_type": "code",
      "source": [
        "!pip install gensim"
      ],
      "metadata": {
        "colab": {
          "base_uri": "https://localhost:8080/"
        },
        "id": "FN00TIG6Lbjc",
        "outputId": "d356b302-f41f-4415-f72f-71959a7fea6c"
      },
      "execution_count": 92,
      "outputs": [
        {
          "output_type": "stream",
          "name": "stdout",
          "text": [
            "Requirement already satisfied: gensim in /usr/local/lib/python3.11/dist-packages (4.3.3)\n",
            "Requirement already satisfied: numpy<2.0,>=1.18.5 in /usr/local/lib/python3.11/dist-packages (from gensim) (1.26.4)\n",
            "Requirement already satisfied: scipy<1.14.0,>=1.7.0 in /usr/local/lib/python3.11/dist-packages (from gensim) (1.13.1)\n",
            "Requirement already satisfied: smart-open>=1.8.1 in /usr/local/lib/python3.11/dist-packages (from gensim) (7.3.0.post1)\n",
            "Requirement already satisfied: wrapt in /usr/local/lib/python3.11/dist-packages (from smart-open>=1.8.1->gensim) (1.17.2)\n"
          ]
        }
      ]
    },
    {
      "cell_type": "code",
      "execution_count": 93,
      "metadata": {
        "colab": {
          "base_uri": "https://localhost:8080/"
        },
        "id": "1aeORKfeKn4-",
        "outputId": "1b00bd04-d397-4db4-e2d2-8981d9d44c03"
      },
      "outputs": [
        {
          "output_type": "stream",
          "name": "stderr",
          "text": [
            "[nltk_data] Downloading package punkt to /root/nltk_data...\n",
            "[nltk_data]   Package punkt is already up-to-date!\n",
            "[nltk_data] Downloading package stopwords to /root/nltk_data...\n",
            "[nltk_data]   Package stopwords is already up-to-date!\n",
            "[nltk_data] Downloading package punkt_tab to /root/nltk_data...\n",
            "[nltk_data]   Package punkt_tab is already up-to-date!\n"
          ]
        },
        {
          "output_type": "execute_result",
          "data": {
            "text/plain": [
              "True"
            ]
          },
          "metadata": {},
          "execution_count": 93
        }
      ],
      "source": [
        "import pandas as pd\n",
        "import numpy as np\n",
        "import nltk\n",
        "import seaborn as sns\n",
        "import matplotlib.pyplot as plt\n",
        "from nltk.corpus import stopwords\n",
        "from nltk.tokenize import word_tokenize\n",
        "from sklearn.feature_extraction.text import CountVectorizer, TfidfVectorizer\n",
        "from gensim.models import Word2Vec, FastText\n",
        "from gensim.models.keyedvectors import KeyedVectors\n",
        "import re\n",
        "import string\n",
        "import os\n",
        "\n",
        "nltk.download('punkt')\n",
        "nltk.download('stopwords')\n",
        "nltk.download('punkt_tab')"
      ]
    },
    {
      "cell_type": "markdown",
      "source": [
        "# 1.2 Load dataset (using NLTK movie_reviews for example)"
      ],
      "metadata": {
        "id": "ud1st70wLwqm"
      }
    },
    {
      "cell_type": "code",
      "source": [
        "from nltk.corpus import movie_reviews\n",
        "nltk.download('movie_reviews')\n",
        "\n",
        "docs = []\n",
        "labels = []\n",
        "\n",
        "for fileid in movie_reviews.fileids():\n",
        "    docs.append(movie_reviews.raw(fileid))\n",
        "    labels.append(movie_reviews.categories(fileid)[0])\n",
        "\n",
        "df = pd.DataFrame({'text': docs, 'label': labels})\n",
        "# Just 5 rows is good here\n",
        "df = df.head(5)\n",
        "df.head()"
      ],
      "metadata": {
        "colab": {
          "base_uri": "https://localhost:8080/",
          "height": 241
        },
        "id": "CZxeA-JbLxWi",
        "outputId": "c390cd2e-9a81-4ea9-ee7d-03fa812e9122"
      },
      "execution_count": 114,
      "outputs": [
        {
          "output_type": "stream",
          "name": "stderr",
          "text": [
            "[nltk_data] Downloading package movie_reviews to /root/nltk_data...\n",
            "[nltk_data]   Package movie_reviews is already up-to-date!\n"
          ]
        },
        {
          "output_type": "execute_result",
          "data": {
            "text/plain": [
              "                                                text label\n",
              "0  plot : two teen couples go to a church party ,...   neg\n",
              "1  the happy bastard's quick movie review \\ndamn ...   neg\n",
              "2  it is movies like these that make a jaded movi...   neg\n",
              "3   \" quest for camelot \" is warner bros . ' firs...   neg\n",
              "4  synopsis : a mentally unstable man undergoing ...   neg"
            ],
            "text/html": [
              "\n",
              "  <div id=\"df-ab21d200-7566-4a5f-a847-1234a8067555\" class=\"colab-df-container\">\n",
              "    <div>\n",
              "<style scoped>\n",
              "    .dataframe tbody tr th:only-of-type {\n",
              "        vertical-align: middle;\n",
              "    }\n",
              "\n",
              "    .dataframe tbody tr th {\n",
              "        vertical-align: top;\n",
              "    }\n",
              "\n",
              "    .dataframe thead th {\n",
              "        text-align: right;\n",
              "    }\n",
              "</style>\n",
              "<table border=\"1\" class=\"dataframe\">\n",
              "  <thead>\n",
              "    <tr style=\"text-align: right;\">\n",
              "      <th></th>\n",
              "      <th>text</th>\n",
              "      <th>label</th>\n",
              "    </tr>\n",
              "  </thead>\n",
              "  <tbody>\n",
              "    <tr>\n",
              "      <th>0</th>\n",
              "      <td>plot : two teen couples go to a church party ,...</td>\n",
              "      <td>neg</td>\n",
              "    </tr>\n",
              "    <tr>\n",
              "      <th>1</th>\n",
              "      <td>the happy bastard's quick movie review \\ndamn ...</td>\n",
              "      <td>neg</td>\n",
              "    </tr>\n",
              "    <tr>\n",
              "      <th>2</th>\n",
              "      <td>it is movies like these that make a jaded movi...</td>\n",
              "      <td>neg</td>\n",
              "    </tr>\n",
              "    <tr>\n",
              "      <th>3</th>\n",
              "      <td>\" quest for camelot \" is warner bros . ' firs...</td>\n",
              "      <td>neg</td>\n",
              "    </tr>\n",
              "    <tr>\n",
              "      <th>4</th>\n",
              "      <td>synopsis : a mentally unstable man undergoing ...</td>\n",
              "      <td>neg</td>\n",
              "    </tr>\n",
              "  </tbody>\n",
              "</table>\n",
              "</div>\n",
              "    <div class=\"colab-df-buttons\">\n",
              "\n",
              "  <div class=\"colab-df-container\">\n",
              "    <button class=\"colab-df-convert\" onclick=\"convertToInteractive('df-ab21d200-7566-4a5f-a847-1234a8067555')\"\n",
              "            title=\"Convert this dataframe to an interactive table.\"\n",
              "            style=\"display:none;\">\n",
              "\n",
              "  <svg xmlns=\"http://www.w3.org/2000/svg\" height=\"24px\" viewBox=\"0 -960 960 960\">\n",
              "    <path d=\"M120-120v-720h720v720H120Zm60-500h600v-160H180v160Zm220 220h160v-160H400v160Zm0 220h160v-160H400v160ZM180-400h160v-160H180v160Zm440 0h160v-160H620v160ZM180-180h160v-160H180v160Zm440 0h160v-160H620v160Z\"/>\n",
              "  </svg>\n",
              "    </button>\n",
              "\n",
              "  <style>\n",
              "    .colab-df-container {\n",
              "      display:flex;\n",
              "      gap: 12px;\n",
              "    }\n",
              "\n",
              "    .colab-df-convert {\n",
              "      background-color: #E8F0FE;\n",
              "      border: none;\n",
              "      border-radius: 50%;\n",
              "      cursor: pointer;\n",
              "      display: none;\n",
              "      fill: #1967D2;\n",
              "      height: 32px;\n",
              "      padding: 0 0 0 0;\n",
              "      width: 32px;\n",
              "    }\n",
              "\n",
              "    .colab-df-convert:hover {\n",
              "      background-color: #E2EBFA;\n",
              "      box-shadow: 0px 1px 2px rgba(60, 64, 67, 0.3), 0px 1px 3px 1px rgba(60, 64, 67, 0.15);\n",
              "      fill: #174EA6;\n",
              "    }\n",
              "\n",
              "    .colab-df-buttons div {\n",
              "      margin-bottom: 4px;\n",
              "    }\n",
              "\n",
              "    [theme=dark] .colab-df-convert {\n",
              "      background-color: #3B4455;\n",
              "      fill: #D2E3FC;\n",
              "    }\n",
              "\n",
              "    [theme=dark] .colab-df-convert:hover {\n",
              "      background-color: #434B5C;\n",
              "      box-shadow: 0px 1px 3px 1px rgba(0, 0, 0, 0.15);\n",
              "      filter: drop-shadow(0px 1px 2px rgba(0, 0, 0, 0.3));\n",
              "      fill: #FFFFFF;\n",
              "    }\n",
              "  </style>\n",
              "\n",
              "    <script>\n",
              "      const buttonEl =\n",
              "        document.querySelector('#df-ab21d200-7566-4a5f-a847-1234a8067555 button.colab-df-convert');\n",
              "      buttonEl.style.display =\n",
              "        google.colab.kernel.accessAllowed ? 'block' : 'none';\n",
              "\n",
              "      async function convertToInteractive(key) {\n",
              "        const element = document.querySelector('#df-ab21d200-7566-4a5f-a847-1234a8067555');\n",
              "        const dataTable =\n",
              "          await google.colab.kernel.invokeFunction('convertToInteractive',\n",
              "                                                    [key], {});\n",
              "        if (!dataTable) return;\n",
              "\n",
              "        const docLinkHtml = 'Like what you see? Visit the ' +\n",
              "          '<a target=\"_blank\" href=https://colab.research.google.com/notebooks/data_table.ipynb>data table notebook</a>'\n",
              "          + ' to learn more about interactive tables.';\n",
              "        element.innerHTML = '';\n",
              "        dataTable['output_type'] = 'display_data';\n",
              "        await google.colab.output.renderOutput(dataTable, element);\n",
              "        const docLink = document.createElement('div');\n",
              "        docLink.innerHTML = docLinkHtml;\n",
              "        element.appendChild(docLink);\n",
              "      }\n",
              "    </script>\n",
              "  </div>\n",
              "\n",
              "\n",
              "    <div id=\"df-90852954-3d24-44e7-8fc9-d45644134e9b\">\n",
              "      <button class=\"colab-df-quickchart\" onclick=\"quickchart('df-90852954-3d24-44e7-8fc9-d45644134e9b')\"\n",
              "                title=\"Suggest charts\"\n",
              "                style=\"display:none;\">\n",
              "\n",
              "<svg xmlns=\"http://www.w3.org/2000/svg\" height=\"24px\"viewBox=\"0 0 24 24\"\n",
              "     width=\"24px\">\n",
              "    <g>\n",
              "        <path d=\"M19 3H5c-1.1 0-2 .9-2 2v14c0 1.1.9 2 2 2h14c1.1 0 2-.9 2-2V5c0-1.1-.9-2-2-2zM9 17H7v-7h2v7zm4 0h-2V7h2v10zm4 0h-2v-4h2v4z\"/>\n",
              "    </g>\n",
              "</svg>\n",
              "      </button>\n",
              "\n",
              "<style>\n",
              "  .colab-df-quickchart {\n",
              "      --bg-color: #E8F0FE;\n",
              "      --fill-color: #1967D2;\n",
              "      --hover-bg-color: #E2EBFA;\n",
              "      --hover-fill-color: #174EA6;\n",
              "      --disabled-fill-color: #AAA;\n",
              "      --disabled-bg-color: #DDD;\n",
              "  }\n",
              "\n",
              "  [theme=dark] .colab-df-quickchart {\n",
              "      --bg-color: #3B4455;\n",
              "      --fill-color: #D2E3FC;\n",
              "      --hover-bg-color: #434B5C;\n",
              "      --hover-fill-color: #FFFFFF;\n",
              "      --disabled-bg-color: #3B4455;\n",
              "      --disabled-fill-color: #666;\n",
              "  }\n",
              "\n",
              "  .colab-df-quickchart {\n",
              "    background-color: var(--bg-color);\n",
              "    border: none;\n",
              "    border-radius: 50%;\n",
              "    cursor: pointer;\n",
              "    display: none;\n",
              "    fill: var(--fill-color);\n",
              "    height: 32px;\n",
              "    padding: 0;\n",
              "    width: 32px;\n",
              "  }\n",
              "\n",
              "  .colab-df-quickchart:hover {\n",
              "    background-color: var(--hover-bg-color);\n",
              "    box-shadow: 0 1px 2px rgba(60, 64, 67, 0.3), 0 1px 3px 1px rgba(60, 64, 67, 0.15);\n",
              "    fill: var(--button-hover-fill-color);\n",
              "  }\n",
              "\n",
              "  .colab-df-quickchart-complete:disabled,\n",
              "  .colab-df-quickchart-complete:disabled:hover {\n",
              "    background-color: var(--disabled-bg-color);\n",
              "    fill: var(--disabled-fill-color);\n",
              "    box-shadow: none;\n",
              "  }\n",
              "\n",
              "  .colab-df-spinner {\n",
              "    border: 2px solid var(--fill-color);\n",
              "    border-color: transparent;\n",
              "    border-bottom-color: var(--fill-color);\n",
              "    animation:\n",
              "      spin 1s steps(1) infinite;\n",
              "  }\n",
              "\n",
              "  @keyframes spin {\n",
              "    0% {\n",
              "      border-color: transparent;\n",
              "      border-bottom-color: var(--fill-color);\n",
              "      border-left-color: var(--fill-color);\n",
              "    }\n",
              "    20% {\n",
              "      border-color: transparent;\n",
              "      border-left-color: var(--fill-color);\n",
              "      border-top-color: var(--fill-color);\n",
              "    }\n",
              "    30% {\n",
              "      border-color: transparent;\n",
              "      border-left-color: var(--fill-color);\n",
              "      border-top-color: var(--fill-color);\n",
              "      border-right-color: var(--fill-color);\n",
              "    }\n",
              "    40% {\n",
              "      border-color: transparent;\n",
              "      border-right-color: var(--fill-color);\n",
              "      border-top-color: var(--fill-color);\n",
              "    }\n",
              "    60% {\n",
              "      border-color: transparent;\n",
              "      border-right-color: var(--fill-color);\n",
              "    }\n",
              "    80% {\n",
              "      border-color: transparent;\n",
              "      border-right-color: var(--fill-color);\n",
              "      border-bottom-color: var(--fill-color);\n",
              "    }\n",
              "    90% {\n",
              "      border-color: transparent;\n",
              "      border-bottom-color: var(--fill-color);\n",
              "    }\n",
              "  }\n",
              "</style>\n",
              "\n",
              "      <script>\n",
              "        async function quickchart(key) {\n",
              "          const quickchartButtonEl =\n",
              "            document.querySelector('#' + key + ' button');\n",
              "          quickchartButtonEl.disabled = true;  // To prevent multiple clicks.\n",
              "          quickchartButtonEl.classList.add('colab-df-spinner');\n",
              "          try {\n",
              "            const charts = await google.colab.kernel.invokeFunction(\n",
              "                'suggestCharts', [key], {});\n",
              "          } catch (error) {\n",
              "            console.error('Error during call to suggestCharts:', error);\n",
              "          }\n",
              "          quickchartButtonEl.classList.remove('colab-df-spinner');\n",
              "          quickchartButtonEl.classList.add('colab-df-quickchart-complete');\n",
              "        }\n",
              "        (() => {\n",
              "          let quickchartButtonEl =\n",
              "            document.querySelector('#df-90852954-3d24-44e7-8fc9-d45644134e9b button');\n",
              "          quickchartButtonEl.style.display =\n",
              "            google.colab.kernel.accessAllowed ? 'block' : 'none';\n",
              "        })();\n",
              "      </script>\n",
              "    </div>\n",
              "\n",
              "    </div>\n",
              "  </div>\n"
            ],
            "application/vnd.google.colaboratory.intrinsic+json": {
              "type": "dataframe",
              "variable_name": "df",
              "summary": "{\n  \"name\": \"df\",\n  \"rows\": 5,\n  \"fields\": [\n    {\n      \"column\": \"text\",\n      \"properties\": {\n        \"dtype\": \"string\",\n        \"num_unique_values\": 5,\n        \"samples\": [\n          \"the happy bastard's quick movie review \\ndamn that y2k bug . \\nit's got a head start in this movie starring jamie lee curtis and another baldwin brother ( william this time ) in a story regarding a crew of a tugboat that comes across a deserted russian tech ship that has a strangeness to it when they kick the power back on . \\nlittle do they know the power within . . . \\ngoing for the gore and bringing on a few action sequences here and there , virus still feels very empty , like a movie going for all flash and no substance . \\nwe don't know why the crew was really out in the middle of nowhere , we don't know the origin of what took over the ship ( just that a big pink flashy thing hit the mir ) , and , of course , we don't know why donald sutherland is stumbling around drunkenly throughout . \\nhere , it's just \\\" hey , let's chase these people around with some robots \\\" . \\nthe acting is below average , even from the likes of curtis . \\nyou're more likely to get a kick out of her work in halloween h20 . \\nsutherland is wasted and baldwin , well , he's acting like a baldwin , of course . \\nthe real star here are stan winston's robot design , some schnazzy cgi , and the occasional good gore shot , like picking into someone's brain . \\nso , if robots and body parts really turn you on , here's your movie . \\notherwise , it's pretty much a sunken ship of a movie . \\n\",\n          \"synopsis : a mentally unstable man undergoing psychotherapy saves a boy from a potentially fatal accident and then falls in love with the boy's mother , a fledgling restauranteur . \\nunsuccessfully attempting to gain the woman's favor , he takes pictures of her and kills a number of people in his way . \\ncomments : stalked is yet another in a seemingly endless string of spurned-psychos-getting-their-revenge type movies which are a stable category in the 1990s film industry , both theatrical and direct-to-video . \\ntheir proliferation may be due in part to the fact that they're typically inexpensive to produce ( no special effects , no big name stars ) and serve as vehicles to flash nudity ( allowing them to frequent late-night cable television ) . \\nstalked wavers slightly from the norm in one respect : the psycho never actually has an affair ; on the contrary , he's rejected rather quickly ( the psycho typically is an ex-lover , ex-wife , or ex-husband ) . \\nother than that , stalked is just another redundant entry doomed to collect dust on video shelves and viewed after midnight on cable . \\nstalked does not provide much suspense , though that is what it sets out to do . \\ninterspersed throughout the opening credits , for instance , a serious-sounding narrator spouts statistics about stalkers and ponders what may cause a man to stalk ( it's implicitly implied that all stalkers are men ) while pictures of a boy are shown on the screen . \\nafter these credits , a snapshot of actor jay underwood appears . \\nthe narrator states that \\\" this is the story of daryl gleason \\\" and tells the audience that he is the stalker . \\nof course , really , this is the story of restauranteur brooke daniels . \\nif the movie was meant to be about daryl , then it should have been called stalker not stalked . \\nokay . so we know who the stalker is even before the movie starts ; no guesswork required . \\nstalked proceeds , then , as it begins : obvious , obvious , obvious . \\nthe opening sequence , contrived quite a bit , brings daryl and brooke ( the victim ) together . \\ndaryl obsesses over brooke , follows her around , and tries to woo her . \\nultimately rejected by her , his plans become more and more desperate and elaborate . \\nthese plans include the all-time , psycho-in-love , cliche : the murdered pet . \\nfor some reason , this genre's films require a dead pet to be found by the victim stalked . \\nstalked is no exception ( it's a cat this time -- found in the shower ) . \\nevents like these lead to the inevitable showdown between stalker and stalked , where only one survives ( guess who it invariably always is and you'll guess the conclusion to this turkey ) . \\nstalked's cast is uniformly adequate : not anything to write home about but also not all that bad either . \\njay underwood , as the stalker , turns toward melodrama a bit too much . \\nhe overdoes it , in other words , but he still manages to be creepy enough to pass as the type of stalker the story demands . \\nmaryam d'abo , about the only actor close to being a star here ( she played the bond chick in the living daylights ) , is equally adequate as the \\\" stalked \\\" of the title , even though she seems too ditzy at times to be a strong , independent business-owner . \\nbrooke ( d'abo ) needs to be ditzy , however , for the plot to proceed . \\ntoward the end , for example , brooke has her suspicions about daryl . \\nto ensure he won't use it as another excuse to see her , brooke decides to return a toolbox he had left at her place to his house . \\ndoes she just leave the toolbox at the door when no one answers ? \\nof course not . \\nshe tries the door , opens it , and wanders around the house . \\nwhen daryl returns , he enters the house , of course , so our heroine is in danger . \\nsomehow , even though her car is parked at the front of the house , right by the front door , daryl is oblivious to her presence inside . \\nthe whole episode places an incredible strain on the audience's suspension of disbelief and questions the validity of either character's intelligence . \\nstalked receives two stars because , even though it is highly derivative and somewhat boring , it is not so bad that it cannot be watched . \\nrated r mostly for several murder scenes and brief nudity in a strip bar , it is not as offensive as many other thrillers in this genre are . \\nif you're in the mood for a good suspense film , though , stake out something else . \\n\",\n          \"it is movies like these that make a jaded movie viewer thankful for the invention of the timex indiglo watch . \\nbased on the late 1960's television show by the same name , the mod squad tells the tale of three reformed criminals under the employ of the police to go undercover . \\nhowever , things go wrong as evidence gets stolen and they are immediately under suspicion . \\nof course , the ads make it seem like so much more . \\nquick cuts , cool music , claire dane's nice hair and cute outfits , car chases , stuff blowing up , and the like . \\nsounds like a cool movie , does it not ? \\nafter the first fifteen minutes , it quickly becomes apparent that it is not . \\nthe mod squad is certainly a slick looking production , complete with nice hair and costumes , but that simply isn't enough . \\nthe film is best described as a cross between an hour-long cop show and a music video , both stretched out into the span of an hour and a half . \\nand with it comes every single clich ? . \\nit doesn't really matter that the film is based on a television show , as most of the plot elements have been recycled from everything we've already seen . \\nthe characters and acting is nothing spectacular , sometimes even bordering on wooden . \\nclaire danes and omar epps deliver their lines as if they are bored , which really transfers onto the audience . \\nthe only one to escape relatively unscathed is giovanni ribisi , who plays the resident crazy man , ultimately being the only thing worth watching . \\nunfortunately , even he's not enough to save this convoluted mess , as all the characters don't do much apart from occupying screen time . \\nwith the young cast , cool clothes , nice hair , and hip soundtrack , it appears that the film is geared towards the teenage mindset . \\ndespite an american 'r' rating ( which the content does not justify ) , the film is way too juvenile for the older mindset . \\ninformation on the characters is literally spoon-fed to the audience ( would it be that hard to show us instead of telling us ? ) , dialogue is poorly written , and the plot is extremely predictable . \\nthe way the film progresses , you likely won't even care if the heroes are in any jeopardy , because you'll know they aren't . \\nbasing the show on a 1960's television show that nobody remembers is of questionable wisdom , especially when one considers the target audience and the fact that the number of memorable films based on television shows can be counted on one hand ( even one that's missing a finger or two ) . \\nthe number of times that i checked my watch ( six ) is a clear indication that this film is not one of them . \\nit is clear that the film is nothing more than an attempt to cash in on the teenage spending dollar , judging from the rash of really awful teen-flicks that we've been seeing as of late . \\navoid this film at all costs . \\n\"\n        ],\n        \"semantic_type\": \"\",\n        \"description\": \"\"\n      }\n    },\n    {\n      \"column\": \"label\",\n      \"properties\": {\n        \"dtype\": \"category\",\n        \"num_unique_values\": 1,\n        \"samples\": [\n          \"neg\"\n        ],\n        \"semantic_type\": \"\",\n        \"description\": \"\"\n      }\n    }\n  ]\n}"
            }
          },
          "metadata": {},
          "execution_count": 114
        }
      ]
    },
    {
      "cell_type": "markdown",
      "source": [
        "# 1.3 Text Preprocessing"
      ],
      "metadata": {
        "id": "La9ydTgVMItp"
      }
    },
    {
      "cell_type": "code",
      "source": [
        "def preprocess_text(text):\n",
        "    text = text.lower() # lower case\n",
        "    text = re.sub(r'\\d+', '', text) # Removes all numeric digits using a regular expression\n",
        "    text = text.translate(str.maketrans('', '', string.punctuation)) # Removes **punctuation characters**\n",
        "    tokens = word_tokenize(text) # Tokenizes the text into individual words using nltk's tokenizer\n",
        "    stop_words = set(stopwords.words('english')) # Loads a set of **English stopwords** (common words like *the, is, and*)\n",
        "    tokens = [w for w in tokens if w not in stop_words]\n",
        "    return ' '.join(tokens) # Joins the cleaned list of tokens **back into a string**"
      ],
      "metadata": {
        "colab": {
          "base_uri": "https://localhost:8080/",
          "height": 206
        },
        "id": "3EcudqWiMJPH",
        "outputId": "d26bb5e8-2134-452d-d6d6-90f394ac3e9d"
      },
      "execution_count": 115,
      "outputs": [
        {
          "output_type": "execute_result",
          "data": {
            "text/plain": [
              "                                                text label  \\\n",
              "0  plot : two teen couples go to a church party ,...   neg   \n",
              "1  the happy bastard's quick movie review \\ndamn ...   neg   \n",
              "2  it is movies like these that make a jaded movi...   neg   \n",
              "3   \" quest for camelot \" is warner bros . ' firs...   neg   \n",
              "4  synopsis : a mentally unstable man undergoing ...   neg   \n",
              "\n",
              "                                          clean_text  \n",
              "0  plot two teen couples go church party drink dr...  \n",
              "1  happy bastards quick movie review damn yk bug ...  \n",
              "2  movies like make jaded movie viewer thankful i...  \n",
              "3  quest camelot warner bros first featurelength ...  \n",
              "4  synopsis mentally unstable man undergoing psyc...  "
            ],
            "text/html": [
              "\n",
              "  <div id=\"df-762e9d81-46f7-4300-b945-4a83ae98f641\" class=\"colab-df-container\">\n",
              "    <div>\n",
              "<style scoped>\n",
              "    .dataframe tbody tr th:only-of-type {\n",
              "        vertical-align: middle;\n",
              "    }\n",
              "\n",
              "    .dataframe tbody tr th {\n",
              "        vertical-align: top;\n",
              "    }\n",
              "\n",
              "    .dataframe thead th {\n",
              "        text-align: right;\n",
              "    }\n",
              "</style>\n",
              "<table border=\"1\" class=\"dataframe\">\n",
              "  <thead>\n",
              "    <tr style=\"text-align: right;\">\n",
              "      <th></th>\n",
              "      <th>text</th>\n",
              "      <th>label</th>\n",
              "      <th>clean_text</th>\n",
              "    </tr>\n",
              "  </thead>\n",
              "  <tbody>\n",
              "    <tr>\n",
              "      <th>0</th>\n",
              "      <td>plot : two teen couples go to a church party ,...</td>\n",
              "      <td>neg</td>\n",
              "      <td>plot two teen couples go church party drink dr...</td>\n",
              "    </tr>\n",
              "    <tr>\n",
              "      <th>1</th>\n",
              "      <td>the happy bastard's quick movie review \\ndamn ...</td>\n",
              "      <td>neg</td>\n",
              "      <td>happy bastards quick movie review damn yk bug ...</td>\n",
              "    </tr>\n",
              "    <tr>\n",
              "      <th>2</th>\n",
              "      <td>it is movies like these that make a jaded movi...</td>\n",
              "      <td>neg</td>\n",
              "      <td>movies like make jaded movie viewer thankful i...</td>\n",
              "    </tr>\n",
              "    <tr>\n",
              "      <th>3</th>\n",
              "      <td>\" quest for camelot \" is warner bros . ' firs...</td>\n",
              "      <td>neg</td>\n",
              "      <td>quest camelot warner bros first featurelength ...</td>\n",
              "    </tr>\n",
              "    <tr>\n",
              "      <th>4</th>\n",
              "      <td>synopsis : a mentally unstable man undergoing ...</td>\n",
              "      <td>neg</td>\n",
              "      <td>synopsis mentally unstable man undergoing psyc...</td>\n",
              "    </tr>\n",
              "  </tbody>\n",
              "</table>\n",
              "</div>\n",
              "    <div class=\"colab-df-buttons\">\n",
              "\n",
              "  <div class=\"colab-df-container\">\n",
              "    <button class=\"colab-df-convert\" onclick=\"convertToInteractive('df-762e9d81-46f7-4300-b945-4a83ae98f641')\"\n",
              "            title=\"Convert this dataframe to an interactive table.\"\n",
              "            style=\"display:none;\">\n",
              "\n",
              "  <svg xmlns=\"http://www.w3.org/2000/svg\" height=\"24px\" viewBox=\"0 -960 960 960\">\n",
              "    <path d=\"M120-120v-720h720v720H120Zm60-500h600v-160H180v160Zm220 220h160v-160H400v160Zm0 220h160v-160H400v160ZM180-400h160v-160H180v160Zm440 0h160v-160H620v160ZM180-180h160v-160H180v160Zm440 0h160v-160H620v160Z\"/>\n",
              "  </svg>\n",
              "    </button>\n",
              "\n",
              "  <style>\n",
              "    .colab-df-container {\n",
              "      display:flex;\n",
              "      gap: 12px;\n",
              "    }\n",
              "\n",
              "    .colab-df-convert {\n",
              "      background-color: #E8F0FE;\n",
              "      border: none;\n",
              "      border-radius: 50%;\n",
              "      cursor: pointer;\n",
              "      display: none;\n",
              "      fill: #1967D2;\n",
              "      height: 32px;\n",
              "      padding: 0 0 0 0;\n",
              "      width: 32px;\n",
              "    }\n",
              "\n",
              "    .colab-df-convert:hover {\n",
              "      background-color: #E2EBFA;\n",
              "      box-shadow: 0px 1px 2px rgba(60, 64, 67, 0.3), 0px 1px 3px 1px rgba(60, 64, 67, 0.15);\n",
              "      fill: #174EA6;\n",
              "    }\n",
              "\n",
              "    .colab-df-buttons div {\n",
              "      margin-bottom: 4px;\n",
              "    }\n",
              "\n",
              "    [theme=dark] .colab-df-convert {\n",
              "      background-color: #3B4455;\n",
              "      fill: #D2E3FC;\n",
              "    }\n",
              "\n",
              "    [theme=dark] .colab-df-convert:hover {\n",
              "      background-color: #434B5C;\n",
              "      box-shadow: 0px 1px 3px 1px rgba(0, 0, 0, 0.15);\n",
              "      filter: drop-shadow(0px 1px 2px rgba(0, 0, 0, 0.3));\n",
              "      fill: #FFFFFF;\n",
              "    }\n",
              "  </style>\n",
              "\n",
              "    <script>\n",
              "      const buttonEl =\n",
              "        document.querySelector('#df-762e9d81-46f7-4300-b945-4a83ae98f641 button.colab-df-convert');\n",
              "      buttonEl.style.display =\n",
              "        google.colab.kernel.accessAllowed ? 'block' : 'none';\n",
              "\n",
              "      async function convertToInteractive(key) {\n",
              "        const element = document.querySelector('#df-762e9d81-46f7-4300-b945-4a83ae98f641');\n",
              "        const dataTable =\n",
              "          await google.colab.kernel.invokeFunction('convertToInteractive',\n",
              "                                                    [key], {});\n",
              "        if (!dataTable) return;\n",
              "\n",
              "        const docLinkHtml = 'Like what you see? Visit the ' +\n",
              "          '<a target=\"_blank\" href=https://colab.research.google.com/notebooks/data_table.ipynb>data table notebook</a>'\n",
              "          + ' to learn more about interactive tables.';\n",
              "        element.innerHTML = '';\n",
              "        dataTable['output_type'] = 'display_data';\n",
              "        await google.colab.output.renderOutput(dataTable, element);\n",
              "        const docLink = document.createElement('div');\n",
              "        docLink.innerHTML = docLinkHtml;\n",
              "        element.appendChild(docLink);\n",
              "      }\n",
              "    </script>\n",
              "  </div>\n",
              "\n",
              "\n",
              "    <div id=\"df-834caeaa-df45-4225-a026-dae4a1adbe4d\">\n",
              "      <button class=\"colab-df-quickchart\" onclick=\"quickchart('df-834caeaa-df45-4225-a026-dae4a1adbe4d')\"\n",
              "                title=\"Suggest charts\"\n",
              "                style=\"display:none;\">\n",
              "\n",
              "<svg xmlns=\"http://www.w3.org/2000/svg\" height=\"24px\"viewBox=\"0 0 24 24\"\n",
              "     width=\"24px\">\n",
              "    <g>\n",
              "        <path d=\"M19 3H5c-1.1 0-2 .9-2 2v14c0 1.1.9 2 2 2h14c1.1 0 2-.9 2-2V5c0-1.1-.9-2-2-2zM9 17H7v-7h2v7zm4 0h-2V7h2v10zm4 0h-2v-4h2v4z\"/>\n",
              "    </g>\n",
              "</svg>\n",
              "      </button>\n",
              "\n",
              "<style>\n",
              "  .colab-df-quickchart {\n",
              "      --bg-color: #E8F0FE;\n",
              "      --fill-color: #1967D2;\n",
              "      --hover-bg-color: #E2EBFA;\n",
              "      --hover-fill-color: #174EA6;\n",
              "      --disabled-fill-color: #AAA;\n",
              "      --disabled-bg-color: #DDD;\n",
              "  }\n",
              "\n",
              "  [theme=dark] .colab-df-quickchart {\n",
              "      --bg-color: #3B4455;\n",
              "      --fill-color: #D2E3FC;\n",
              "      --hover-bg-color: #434B5C;\n",
              "      --hover-fill-color: #FFFFFF;\n",
              "      --disabled-bg-color: #3B4455;\n",
              "      --disabled-fill-color: #666;\n",
              "  }\n",
              "\n",
              "  .colab-df-quickchart {\n",
              "    background-color: var(--bg-color);\n",
              "    border: none;\n",
              "    border-radius: 50%;\n",
              "    cursor: pointer;\n",
              "    display: none;\n",
              "    fill: var(--fill-color);\n",
              "    height: 32px;\n",
              "    padding: 0;\n",
              "    width: 32px;\n",
              "  }\n",
              "\n",
              "  .colab-df-quickchart:hover {\n",
              "    background-color: var(--hover-bg-color);\n",
              "    box-shadow: 0 1px 2px rgba(60, 64, 67, 0.3), 0 1px 3px 1px rgba(60, 64, 67, 0.15);\n",
              "    fill: var(--button-hover-fill-color);\n",
              "  }\n",
              "\n",
              "  .colab-df-quickchart-complete:disabled,\n",
              "  .colab-df-quickchart-complete:disabled:hover {\n",
              "    background-color: var(--disabled-bg-color);\n",
              "    fill: var(--disabled-fill-color);\n",
              "    box-shadow: none;\n",
              "  }\n",
              "\n",
              "  .colab-df-spinner {\n",
              "    border: 2px solid var(--fill-color);\n",
              "    border-color: transparent;\n",
              "    border-bottom-color: var(--fill-color);\n",
              "    animation:\n",
              "      spin 1s steps(1) infinite;\n",
              "  }\n",
              "\n",
              "  @keyframes spin {\n",
              "    0% {\n",
              "      border-color: transparent;\n",
              "      border-bottom-color: var(--fill-color);\n",
              "      border-left-color: var(--fill-color);\n",
              "    }\n",
              "    20% {\n",
              "      border-color: transparent;\n",
              "      border-left-color: var(--fill-color);\n",
              "      border-top-color: var(--fill-color);\n",
              "    }\n",
              "    30% {\n",
              "      border-color: transparent;\n",
              "      border-left-color: var(--fill-color);\n",
              "      border-top-color: var(--fill-color);\n",
              "      border-right-color: var(--fill-color);\n",
              "    }\n",
              "    40% {\n",
              "      border-color: transparent;\n",
              "      border-right-color: var(--fill-color);\n",
              "      border-top-color: var(--fill-color);\n",
              "    }\n",
              "    60% {\n",
              "      border-color: transparent;\n",
              "      border-right-color: var(--fill-color);\n",
              "    }\n",
              "    80% {\n",
              "      border-color: transparent;\n",
              "      border-right-color: var(--fill-color);\n",
              "      border-bottom-color: var(--fill-color);\n",
              "    }\n",
              "    90% {\n",
              "      border-color: transparent;\n",
              "      border-bottom-color: var(--fill-color);\n",
              "    }\n",
              "  }\n",
              "</style>\n",
              "\n",
              "      <script>\n",
              "        async function quickchart(key) {\n",
              "          const quickchartButtonEl =\n",
              "            document.querySelector('#' + key + ' button');\n",
              "          quickchartButtonEl.disabled = true;  // To prevent multiple clicks.\n",
              "          quickchartButtonEl.classList.add('colab-df-spinner');\n",
              "          try {\n",
              "            const charts = await google.colab.kernel.invokeFunction(\n",
              "                'suggestCharts', [key], {});\n",
              "          } catch (error) {\n",
              "            console.error('Error during call to suggestCharts:', error);\n",
              "          }\n",
              "          quickchartButtonEl.classList.remove('colab-df-spinner');\n",
              "          quickchartButtonEl.classList.add('colab-df-quickchart-complete');\n",
              "        }\n",
              "        (() => {\n",
              "          let quickchartButtonEl =\n",
              "            document.querySelector('#df-834caeaa-df45-4225-a026-dae4a1adbe4d button');\n",
              "          quickchartButtonEl.style.display =\n",
              "            google.colab.kernel.accessAllowed ? 'block' : 'none';\n",
              "        })();\n",
              "      </script>\n",
              "    </div>\n",
              "\n",
              "    </div>\n",
              "  </div>\n"
            ],
            "application/vnd.google.colaboratory.intrinsic+json": {
              "type": "dataframe",
              "variable_name": "df",
              "summary": "{\n  \"name\": \"df\",\n  \"rows\": 5,\n  \"fields\": [\n    {\n      \"column\": \"text\",\n      \"properties\": {\n        \"dtype\": \"string\",\n        \"num_unique_values\": 5,\n        \"samples\": [\n          \"the happy bastard's quick movie review \\ndamn that y2k bug . \\nit's got a head start in this movie starring jamie lee curtis and another baldwin brother ( william this time ) in a story regarding a crew of a tugboat that comes across a deserted russian tech ship that has a strangeness to it when they kick the power back on . \\nlittle do they know the power within . . . \\ngoing for the gore and bringing on a few action sequences here and there , virus still feels very empty , like a movie going for all flash and no substance . \\nwe don't know why the crew was really out in the middle of nowhere , we don't know the origin of what took over the ship ( just that a big pink flashy thing hit the mir ) , and , of course , we don't know why donald sutherland is stumbling around drunkenly throughout . \\nhere , it's just \\\" hey , let's chase these people around with some robots \\\" . \\nthe acting is below average , even from the likes of curtis . \\nyou're more likely to get a kick out of her work in halloween h20 . \\nsutherland is wasted and baldwin , well , he's acting like a baldwin , of course . \\nthe real star here are stan winston's robot design , some schnazzy cgi , and the occasional good gore shot , like picking into someone's brain . \\nso , if robots and body parts really turn you on , here's your movie . \\notherwise , it's pretty much a sunken ship of a movie . \\n\",\n          \"synopsis : a mentally unstable man undergoing psychotherapy saves a boy from a potentially fatal accident and then falls in love with the boy's mother , a fledgling restauranteur . \\nunsuccessfully attempting to gain the woman's favor , he takes pictures of her and kills a number of people in his way . \\ncomments : stalked is yet another in a seemingly endless string of spurned-psychos-getting-their-revenge type movies which are a stable category in the 1990s film industry , both theatrical and direct-to-video . \\ntheir proliferation may be due in part to the fact that they're typically inexpensive to produce ( no special effects , no big name stars ) and serve as vehicles to flash nudity ( allowing them to frequent late-night cable television ) . \\nstalked wavers slightly from the norm in one respect : the psycho never actually has an affair ; on the contrary , he's rejected rather quickly ( the psycho typically is an ex-lover , ex-wife , or ex-husband ) . \\nother than that , stalked is just another redundant entry doomed to collect dust on video shelves and viewed after midnight on cable . \\nstalked does not provide much suspense , though that is what it sets out to do . \\ninterspersed throughout the opening credits , for instance , a serious-sounding narrator spouts statistics about stalkers and ponders what may cause a man to stalk ( it's implicitly implied that all stalkers are men ) while pictures of a boy are shown on the screen . \\nafter these credits , a snapshot of actor jay underwood appears . \\nthe narrator states that \\\" this is the story of daryl gleason \\\" and tells the audience that he is the stalker . \\nof course , really , this is the story of restauranteur brooke daniels . \\nif the movie was meant to be about daryl , then it should have been called stalker not stalked . \\nokay . so we know who the stalker is even before the movie starts ; no guesswork required . \\nstalked proceeds , then , as it begins : obvious , obvious , obvious . \\nthe opening sequence , contrived quite a bit , brings daryl and brooke ( the victim ) together . \\ndaryl obsesses over brooke , follows her around , and tries to woo her . \\nultimately rejected by her , his plans become more and more desperate and elaborate . \\nthese plans include the all-time , psycho-in-love , cliche : the murdered pet . \\nfor some reason , this genre's films require a dead pet to be found by the victim stalked . \\nstalked is no exception ( it's a cat this time -- found in the shower ) . \\nevents like these lead to the inevitable showdown between stalker and stalked , where only one survives ( guess who it invariably always is and you'll guess the conclusion to this turkey ) . \\nstalked's cast is uniformly adequate : not anything to write home about but also not all that bad either . \\njay underwood , as the stalker , turns toward melodrama a bit too much . \\nhe overdoes it , in other words , but he still manages to be creepy enough to pass as the type of stalker the story demands . \\nmaryam d'abo , about the only actor close to being a star here ( she played the bond chick in the living daylights ) , is equally adequate as the \\\" stalked \\\" of the title , even though she seems too ditzy at times to be a strong , independent business-owner . \\nbrooke ( d'abo ) needs to be ditzy , however , for the plot to proceed . \\ntoward the end , for example , brooke has her suspicions about daryl . \\nto ensure he won't use it as another excuse to see her , brooke decides to return a toolbox he had left at her place to his house . \\ndoes she just leave the toolbox at the door when no one answers ? \\nof course not . \\nshe tries the door , opens it , and wanders around the house . \\nwhen daryl returns , he enters the house , of course , so our heroine is in danger . \\nsomehow , even though her car is parked at the front of the house , right by the front door , daryl is oblivious to her presence inside . \\nthe whole episode places an incredible strain on the audience's suspension of disbelief and questions the validity of either character's intelligence . \\nstalked receives two stars because , even though it is highly derivative and somewhat boring , it is not so bad that it cannot be watched . \\nrated r mostly for several murder scenes and brief nudity in a strip bar , it is not as offensive as many other thrillers in this genre are . \\nif you're in the mood for a good suspense film , though , stake out something else . \\n\",\n          \"it is movies like these that make a jaded movie viewer thankful for the invention of the timex indiglo watch . \\nbased on the late 1960's television show by the same name , the mod squad tells the tale of three reformed criminals under the employ of the police to go undercover . \\nhowever , things go wrong as evidence gets stolen and they are immediately under suspicion . \\nof course , the ads make it seem like so much more . \\nquick cuts , cool music , claire dane's nice hair and cute outfits , car chases , stuff blowing up , and the like . \\nsounds like a cool movie , does it not ? \\nafter the first fifteen minutes , it quickly becomes apparent that it is not . \\nthe mod squad is certainly a slick looking production , complete with nice hair and costumes , but that simply isn't enough . \\nthe film is best described as a cross between an hour-long cop show and a music video , both stretched out into the span of an hour and a half . \\nand with it comes every single clich ? . \\nit doesn't really matter that the film is based on a television show , as most of the plot elements have been recycled from everything we've already seen . \\nthe characters and acting is nothing spectacular , sometimes even bordering on wooden . \\nclaire danes and omar epps deliver their lines as if they are bored , which really transfers onto the audience . \\nthe only one to escape relatively unscathed is giovanni ribisi , who plays the resident crazy man , ultimately being the only thing worth watching . \\nunfortunately , even he's not enough to save this convoluted mess , as all the characters don't do much apart from occupying screen time . \\nwith the young cast , cool clothes , nice hair , and hip soundtrack , it appears that the film is geared towards the teenage mindset . \\ndespite an american 'r' rating ( which the content does not justify ) , the film is way too juvenile for the older mindset . \\ninformation on the characters is literally spoon-fed to the audience ( would it be that hard to show us instead of telling us ? ) , dialogue is poorly written , and the plot is extremely predictable . \\nthe way the film progresses , you likely won't even care if the heroes are in any jeopardy , because you'll know they aren't . \\nbasing the show on a 1960's television show that nobody remembers is of questionable wisdom , especially when one considers the target audience and the fact that the number of memorable films based on television shows can be counted on one hand ( even one that's missing a finger or two ) . \\nthe number of times that i checked my watch ( six ) is a clear indication that this film is not one of them . \\nit is clear that the film is nothing more than an attempt to cash in on the teenage spending dollar , judging from the rash of really awful teen-flicks that we've been seeing as of late . \\navoid this film at all costs . \\n\"\n        ],\n        \"semantic_type\": \"\",\n        \"description\": \"\"\n      }\n    },\n    {\n      \"column\": \"label\",\n      \"properties\": {\n        \"dtype\": \"category\",\n        \"num_unique_values\": 1,\n        \"samples\": [\n          \"neg\"\n        ],\n        \"semantic_type\": \"\",\n        \"description\": \"\"\n      }\n    },\n    {\n      \"column\": \"clean_text\",\n      \"properties\": {\n        \"dtype\": \"string\",\n        \"num_unique_values\": 5,\n        \"samples\": [\n          \"happy bastards quick movie review damn yk bug got head start movie starring jamie lee curtis another baldwin brother william time story regarding crew tugboat comes across deserted russian tech ship strangeness kick power back little know power within going gore bringing action sequences virus still feels empty like movie going flash substance dont know crew really middle nowhere dont know origin took ship big pink flashy thing hit mir course dont know donald sutherland stumbling around drunkenly throughout hey lets chase people around robots acting average even likes curtis youre likely get kick work halloween h sutherland wasted baldwin well hes acting like baldwin course real star stan winstons robot design schnazzy cgi occasional good gore shot like picking someones brain robots body parts really turn heres movie otherwise pretty much sunken ship movie\"\n        ],\n        \"semantic_type\": \"\",\n        \"description\": \"\"\n      }\n    }\n  ]\n}"
            }
          },
          "metadata": {},
          "execution_count": 115
        }
      ]
    },
    {
      "cell_type": "markdown",
      "source": [
        "This function:\n",
        "1. Normalizes case\n",
        "2. Removes numbers\n",
        "3. Strips punctuation\n",
        "4. Tokenizes into words\n",
        "5. Removes common stopwords\n",
        "6. Reconstructs a clean string"
      ],
      "metadata": {
        "id": "yMng5ugbwm0D"
      }
    },
    {
      "cell_type": "code",
      "source": [
        "# Call the Function\n",
        "df['clean_text'] = df['text'].apply(preprocess_text)\n",
        "df.head()"
      ],
      "metadata": {
        "colab": {
          "base_uri": "https://localhost:8080/",
          "height": 206
        },
        "id": "6O7WJqohwjbV",
        "outputId": "469d4126-1709-4292-f198-be6b90e24b16"
      },
      "execution_count": 116,
      "outputs": [
        {
          "output_type": "execute_result",
          "data": {
            "text/plain": [
              "                                                text label  \\\n",
              "0  plot : two teen couples go to a church party ,...   neg   \n",
              "1  the happy bastard's quick movie review \\ndamn ...   neg   \n",
              "2  it is movies like these that make a jaded movi...   neg   \n",
              "3   \" quest for camelot \" is warner bros . ' firs...   neg   \n",
              "4  synopsis : a mentally unstable man undergoing ...   neg   \n",
              "\n",
              "                                          clean_text  \n",
              "0  plot two teen couples go church party drink dr...  \n",
              "1  happy bastards quick movie review damn yk bug ...  \n",
              "2  movies like make jaded movie viewer thankful i...  \n",
              "3  quest camelot warner bros first featurelength ...  \n",
              "4  synopsis mentally unstable man undergoing psyc...  "
            ],
            "text/html": [
              "\n",
              "  <div id=\"df-6f80462b-350e-41c0-8e01-4352d3eb7cd1\" class=\"colab-df-container\">\n",
              "    <div>\n",
              "<style scoped>\n",
              "    .dataframe tbody tr th:only-of-type {\n",
              "        vertical-align: middle;\n",
              "    }\n",
              "\n",
              "    .dataframe tbody tr th {\n",
              "        vertical-align: top;\n",
              "    }\n",
              "\n",
              "    .dataframe thead th {\n",
              "        text-align: right;\n",
              "    }\n",
              "</style>\n",
              "<table border=\"1\" class=\"dataframe\">\n",
              "  <thead>\n",
              "    <tr style=\"text-align: right;\">\n",
              "      <th></th>\n",
              "      <th>text</th>\n",
              "      <th>label</th>\n",
              "      <th>clean_text</th>\n",
              "    </tr>\n",
              "  </thead>\n",
              "  <tbody>\n",
              "    <tr>\n",
              "      <th>0</th>\n",
              "      <td>plot : two teen couples go to a church party ,...</td>\n",
              "      <td>neg</td>\n",
              "      <td>plot two teen couples go church party drink dr...</td>\n",
              "    </tr>\n",
              "    <tr>\n",
              "      <th>1</th>\n",
              "      <td>the happy bastard's quick movie review \\ndamn ...</td>\n",
              "      <td>neg</td>\n",
              "      <td>happy bastards quick movie review damn yk bug ...</td>\n",
              "    </tr>\n",
              "    <tr>\n",
              "      <th>2</th>\n",
              "      <td>it is movies like these that make a jaded movi...</td>\n",
              "      <td>neg</td>\n",
              "      <td>movies like make jaded movie viewer thankful i...</td>\n",
              "    </tr>\n",
              "    <tr>\n",
              "      <th>3</th>\n",
              "      <td>\" quest for camelot \" is warner bros . ' firs...</td>\n",
              "      <td>neg</td>\n",
              "      <td>quest camelot warner bros first featurelength ...</td>\n",
              "    </tr>\n",
              "    <tr>\n",
              "      <th>4</th>\n",
              "      <td>synopsis : a mentally unstable man undergoing ...</td>\n",
              "      <td>neg</td>\n",
              "      <td>synopsis mentally unstable man undergoing psyc...</td>\n",
              "    </tr>\n",
              "  </tbody>\n",
              "</table>\n",
              "</div>\n",
              "    <div class=\"colab-df-buttons\">\n",
              "\n",
              "  <div class=\"colab-df-container\">\n",
              "    <button class=\"colab-df-convert\" onclick=\"convertToInteractive('df-6f80462b-350e-41c0-8e01-4352d3eb7cd1')\"\n",
              "            title=\"Convert this dataframe to an interactive table.\"\n",
              "            style=\"display:none;\">\n",
              "\n",
              "  <svg xmlns=\"http://www.w3.org/2000/svg\" height=\"24px\" viewBox=\"0 -960 960 960\">\n",
              "    <path d=\"M120-120v-720h720v720H120Zm60-500h600v-160H180v160Zm220 220h160v-160H400v160Zm0 220h160v-160H400v160ZM180-400h160v-160H180v160Zm440 0h160v-160H620v160ZM180-180h160v-160H180v160Zm440 0h160v-160H620v160Z\"/>\n",
              "  </svg>\n",
              "    </button>\n",
              "\n",
              "  <style>\n",
              "    .colab-df-container {\n",
              "      display:flex;\n",
              "      gap: 12px;\n",
              "    }\n",
              "\n",
              "    .colab-df-convert {\n",
              "      background-color: #E8F0FE;\n",
              "      border: none;\n",
              "      border-radius: 50%;\n",
              "      cursor: pointer;\n",
              "      display: none;\n",
              "      fill: #1967D2;\n",
              "      height: 32px;\n",
              "      padding: 0 0 0 0;\n",
              "      width: 32px;\n",
              "    }\n",
              "\n",
              "    .colab-df-convert:hover {\n",
              "      background-color: #E2EBFA;\n",
              "      box-shadow: 0px 1px 2px rgba(60, 64, 67, 0.3), 0px 1px 3px 1px rgba(60, 64, 67, 0.15);\n",
              "      fill: #174EA6;\n",
              "    }\n",
              "\n",
              "    .colab-df-buttons div {\n",
              "      margin-bottom: 4px;\n",
              "    }\n",
              "\n",
              "    [theme=dark] .colab-df-convert {\n",
              "      background-color: #3B4455;\n",
              "      fill: #D2E3FC;\n",
              "    }\n",
              "\n",
              "    [theme=dark] .colab-df-convert:hover {\n",
              "      background-color: #434B5C;\n",
              "      box-shadow: 0px 1px 3px 1px rgba(0, 0, 0, 0.15);\n",
              "      filter: drop-shadow(0px 1px 2px rgba(0, 0, 0, 0.3));\n",
              "      fill: #FFFFFF;\n",
              "    }\n",
              "  </style>\n",
              "\n",
              "    <script>\n",
              "      const buttonEl =\n",
              "        document.querySelector('#df-6f80462b-350e-41c0-8e01-4352d3eb7cd1 button.colab-df-convert');\n",
              "      buttonEl.style.display =\n",
              "        google.colab.kernel.accessAllowed ? 'block' : 'none';\n",
              "\n",
              "      async function convertToInteractive(key) {\n",
              "        const element = document.querySelector('#df-6f80462b-350e-41c0-8e01-4352d3eb7cd1');\n",
              "        const dataTable =\n",
              "          await google.colab.kernel.invokeFunction('convertToInteractive',\n",
              "                                                    [key], {});\n",
              "        if (!dataTable) return;\n",
              "\n",
              "        const docLinkHtml = 'Like what you see? Visit the ' +\n",
              "          '<a target=\"_blank\" href=https://colab.research.google.com/notebooks/data_table.ipynb>data table notebook</a>'\n",
              "          + ' to learn more about interactive tables.';\n",
              "        element.innerHTML = '';\n",
              "        dataTable['output_type'] = 'display_data';\n",
              "        await google.colab.output.renderOutput(dataTable, element);\n",
              "        const docLink = document.createElement('div');\n",
              "        docLink.innerHTML = docLinkHtml;\n",
              "        element.appendChild(docLink);\n",
              "      }\n",
              "    </script>\n",
              "  </div>\n",
              "\n",
              "\n",
              "    <div id=\"df-c26a6b2b-3c38-4537-99ad-baaa13c91516\">\n",
              "      <button class=\"colab-df-quickchart\" onclick=\"quickchart('df-c26a6b2b-3c38-4537-99ad-baaa13c91516')\"\n",
              "                title=\"Suggest charts\"\n",
              "                style=\"display:none;\">\n",
              "\n",
              "<svg xmlns=\"http://www.w3.org/2000/svg\" height=\"24px\"viewBox=\"0 0 24 24\"\n",
              "     width=\"24px\">\n",
              "    <g>\n",
              "        <path d=\"M19 3H5c-1.1 0-2 .9-2 2v14c0 1.1.9 2 2 2h14c1.1 0 2-.9 2-2V5c0-1.1-.9-2-2-2zM9 17H7v-7h2v7zm4 0h-2V7h2v10zm4 0h-2v-4h2v4z\"/>\n",
              "    </g>\n",
              "</svg>\n",
              "      </button>\n",
              "\n",
              "<style>\n",
              "  .colab-df-quickchart {\n",
              "      --bg-color: #E8F0FE;\n",
              "      --fill-color: #1967D2;\n",
              "      --hover-bg-color: #E2EBFA;\n",
              "      --hover-fill-color: #174EA6;\n",
              "      --disabled-fill-color: #AAA;\n",
              "      --disabled-bg-color: #DDD;\n",
              "  }\n",
              "\n",
              "  [theme=dark] .colab-df-quickchart {\n",
              "      --bg-color: #3B4455;\n",
              "      --fill-color: #D2E3FC;\n",
              "      --hover-bg-color: #434B5C;\n",
              "      --hover-fill-color: #FFFFFF;\n",
              "      --disabled-bg-color: #3B4455;\n",
              "      --disabled-fill-color: #666;\n",
              "  }\n",
              "\n",
              "  .colab-df-quickchart {\n",
              "    background-color: var(--bg-color);\n",
              "    border: none;\n",
              "    border-radius: 50%;\n",
              "    cursor: pointer;\n",
              "    display: none;\n",
              "    fill: var(--fill-color);\n",
              "    height: 32px;\n",
              "    padding: 0;\n",
              "    width: 32px;\n",
              "  }\n",
              "\n",
              "  .colab-df-quickchart:hover {\n",
              "    background-color: var(--hover-bg-color);\n",
              "    box-shadow: 0 1px 2px rgba(60, 64, 67, 0.3), 0 1px 3px 1px rgba(60, 64, 67, 0.15);\n",
              "    fill: var(--button-hover-fill-color);\n",
              "  }\n",
              "\n",
              "  .colab-df-quickchart-complete:disabled,\n",
              "  .colab-df-quickchart-complete:disabled:hover {\n",
              "    background-color: var(--disabled-bg-color);\n",
              "    fill: var(--disabled-fill-color);\n",
              "    box-shadow: none;\n",
              "  }\n",
              "\n",
              "  .colab-df-spinner {\n",
              "    border: 2px solid var(--fill-color);\n",
              "    border-color: transparent;\n",
              "    border-bottom-color: var(--fill-color);\n",
              "    animation:\n",
              "      spin 1s steps(1) infinite;\n",
              "  }\n",
              "\n",
              "  @keyframes spin {\n",
              "    0% {\n",
              "      border-color: transparent;\n",
              "      border-bottom-color: var(--fill-color);\n",
              "      border-left-color: var(--fill-color);\n",
              "    }\n",
              "    20% {\n",
              "      border-color: transparent;\n",
              "      border-left-color: var(--fill-color);\n",
              "      border-top-color: var(--fill-color);\n",
              "    }\n",
              "    30% {\n",
              "      border-color: transparent;\n",
              "      border-left-color: var(--fill-color);\n",
              "      border-top-color: var(--fill-color);\n",
              "      border-right-color: var(--fill-color);\n",
              "    }\n",
              "    40% {\n",
              "      border-color: transparent;\n",
              "      border-right-color: var(--fill-color);\n",
              "      border-top-color: var(--fill-color);\n",
              "    }\n",
              "    60% {\n",
              "      border-color: transparent;\n",
              "      border-right-color: var(--fill-color);\n",
              "    }\n",
              "    80% {\n",
              "      border-color: transparent;\n",
              "      border-right-color: var(--fill-color);\n",
              "      border-bottom-color: var(--fill-color);\n",
              "    }\n",
              "    90% {\n",
              "      border-color: transparent;\n",
              "      border-bottom-color: var(--fill-color);\n",
              "    }\n",
              "  }\n",
              "</style>\n",
              "\n",
              "      <script>\n",
              "        async function quickchart(key) {\n",
              "          const quickchartButtonEl =\n",
              "            document.querySelector('#' + key + ' button');\n",
              "          quickchartButtonEl.disabled = true;  // To prevent multiple clicks.\n",
              "          quickchartButtonEl.classList.add('colab-df-spinner');\n",
              "          try {\n",
              "            const charts = await google.colab.kernel.invokeFunction(\n",
              "                'suggestCharts', [key], {});\n",
              "          } catch (error) {\n",
              "            console.error('Error during call to suggestCharts:', error);\n",
              "          }\n",
              "          quickchartButtonEl.classList.remove('colab-df-spinner');\n",
              "          quickchartButtonEl.classList.add('colab-df-quickchart-complete');\n",
              "        }\n",
              "        (() => {\n",
              "          let quickchartButtonEl =\n",
              "            document.querySelector('#df-c26a6b2b-3c38-4537-99ad-baaa13c91516 button');\n",
              "          quickchartButtonEl.style.display =\n",
              "            google.colab.kernel.accessAllowed ? 'block' : 'none';\n",
              "        })();\n",
              "      </script>\n",
              "    </div>\n",
              "\n",
              "    </div>\n",
              "  </div>\n"
            ],
            "application/vnd.google.colaboratory.intrinsic+json": {
              "type": "dataframe",
              "variable_name": "df",
              "summary": "{\n  \"name\": \"df\",\n  \"rows\": 5,\n  \"fields\": [\n    {\n      \"column\": \"text\",\n      \"properties\": {\n        \"dtype\": \"string\",\n        \"num_unique_values\": 5,\n        \"samples\": [\n          \"the happy bastard's quick movie review \\ndamn that y2k bug . \\nit's got a head start in this movie starring jamie lee curtis and another baldwin brother ( william this time ) in a story regarding a crew of a tugboat that comes across a deserted russian tech ship that has a strangeness to it when they kick the power back on . \\nlittle do they know the power within . . . \\ngoing for the gore and bringing on a few action sequences here and there , virus still feels very empty , like a movie going for all flash and no substance . \\nwe don't know why the crew was really out in the middle of nowhere , we don't know the origin of what took over the ship ( just that a big pink flashy thing hit the mir ) , and , of course , we don't know why donald sutherland is stumbling around drunkenly throughout . \\nhere , it's just \\\" hey , let's chase these people around with some robots \\\" . \\nthe acting is below average , even from the likes of curtis . \\nyou're more likely to get a kick out of her work in halloween h20 . \\nsutherland is wasted and baldwin , well , he's acting like a baldwin , of course . \\nthe real star here are stan winston's robot design , some schnazzy cgi , and the occasional good gore shot , like picking into someone's brain . \\nso , if robots and body parts really turn you on , here's your movie . \\notherwise , it's pretty much a sunken ship of a movie . \\n\",\n          \"synopsis : a mentally unstable man undergoing psychotherapy saves a boy from a potentially fatal accident and then falls in love with the boy's mother , a fledgling restauranteur . \\nunsuccessfully attempting to gain the woman's favor , he takes pictures of her and kills a number of people in his way . \\ncomments : stalked is yet another in a seemingly endless string of spurned-psychos-getting-their-revenge type movies which are a stable category in the 1990s film industry , both theatrical and direct-to-video . \\ntheir proliferation may be due in part to the fact that they're typically inexpensive to produce ( no special effects , no big name stars ) and serve as vehicles to flash nudity ( allowing them to frequent late-night cable television ) . \\nstalked wavers slightly from the norm in one respect : the psycho never actually has an affair ; on the contrary , he's rejected rather quickly ( the psycho typically is an ex-lover , ex-wife , or ex-husband ) . \\nother than that , stalked is just another redundant entry doomed to collect dust on video shelves and viewed after midnight on cable . \\nstalked does not provide much suspense , though that is what it sets out to do . \\ninterspersed throughout the opening credits , for instance , a serious-sounding narrator spouts statistics about stalkers and ponders what may cause a man to stalk ( it's implicitly implied that all stalkers are men ) while pictures of a boy are shown on the screen . \\nafter these credits , a snapshot of actor jay underwood appears . \\nthe narrator states that \\\" this is the story of daryl gleason \\\" and tells the audience that he is the stalker . \\nof course , really , this is the story of restauranteur brooke daniels . \\nif the movie was meant to be about daryl , then it should have been called stalker not stalked . \\nokay . so we know who the stalker is even before the movie starts ; no guesswork required . \\nstalked proceeds , then , as it begins : obvious , obvious , obvious . \\nthe opening sequence , contrived quite a bit , brings daryl and brooke ( the victim ) together . \\ndaryl obsesses over brooke , follows her around , and tries to woo her . \\nultimately rejected by her , his plans become more and more desperate and elaborate . \\nthese plans include the all-time , psycho-in-love , cliche : the murdered pet . \\nfor some reason , this genre's films require a dead pet to be found by the victim stalked . \\nstalked is no exception ( it's a cat this time -- found in the shower ) . \\nevents like these lead to the inevitable showdown between stalker and stalked , where only one survives ( guess who it invariably always is and you'll guess the conclusion to this turkey ) . \\nstalked's cast is uniformly adequate : not anything to write home about but also not all that bad either . \\njay underwood , as the stalker , turns toward melodrama a bit too much . \\nhe overdoes it , in other words , but he still manages to be creepy enough to pass as the type of stalker the story demands . \\nmaryam d'abo , about the only actor close to being a star here ( she played the bond chick in the living daylights ) , is equally adequate as the \\\" stalked \\\" of the title , even though she seems too ditzy at times to be a strong , independent business-owner . \\nbrooke ( d'abo ) needs to be ditzy , however , for the plot to proceed . \\ntoward the end , for example , brooke has her suspicions about daryl . \\nto ensure he won't use it as another excuse to see her , brooke decides to return a toolbox he had left at her place to his house . \\ndoes she just leave the toolbox at the door when no one answers ? \\nof course not . \\nshe tries the door , opens it , and wanders around the house . \\nwhen daryl returns , he enters the house , of course , so our heroine is in danger . \\nsomehow , even though her car is parked at the front of the house , right by the front door , daryl is oblivious to her presence inside . \\nthe whole episode places an incredible strain on the audience's suspension of disbelief and questions the validity of either character's intelligence . \\nstalked receives two stars because , even though it is highly derivative and somewhat boring , it is not so bad that it cannot be watched . \\nrated r mostly for several murder scenes and brief nudity in a strip bar , it is not as offensive as many other thrillers in this genre are . \\nif you're in the mood for a good suspense film , though , stake out something else . \\n\",\n          \"it is movies like these that make a jaded movie viewer thankful for the invention of the timex indiglo watch . \\nbased on the late 1960's television show by the same name , the mod squad tells the tale of three reformed criminals under the employ of the police to go undercover . \\nhowever , things go wrong as evidence gets stolen and they are immediately under suspicion . \\nof course , the ads make it seem like so much more . \\nquick cuts , cool music , claire dane's nice hair and cute outfits , car chases , stuff blowing up , and the like . \\nsounds like a cool movie , does it not ? \\nafter the first fifteen minutes , it quickly becomes apparent that it is not . \\nthe mod squad is certainly a slick looking production , complete with nice hair and costumes , but that simply isn't enough . \\nthe film is best described as a cross between an hour-long cop show and a music video , both stretched out into the span of an hour and a half . \\nand with it comes every single clich ? . \\nit doesn't really matter that the film is based on a television show , as most of the plot elements have been recycled from everything we've already seen . \\nthe characters and acting is nothing spectacular , sometimes even bordering on wooden . \\nclaire danes and omar epps deliver their lines as if they are bored , which really transfers onto the audience . \\nthe only one to escape relatively unscathed is giovanni ribisi , who plays the resident crazy man , ultimately being the only thing worth watching . \\nunfortunately , even he's not enough to save this convoluted mess , as all the characters don't do much apart from occupying screen time . \\nwith the young cast , cool clothes , nice hair , and hip soundtrack , it appears that the film is geared towards the teenage mindset . \\ndespite an american 'r' rating ( which the content does not justify ) , the film is way too juvenile for the older mindset . \\ninformation on the characters is literally spoon-fed to the audience ( would it be that hard to show us instead of telling us ? ) , dialogue is poorly written , and the plot is extremely predictable . \\nthe way the film progresses , you likely won't even care if the heroes are in any jeopardy , because you'll know they aren't . \\nbasing the show on a 1960's television show that nobody remembers is of questionable wisdom , especially when one considers the target audience and the fact that the number of memorable films based on television shows can be counted on one hand ( even one that's missing a finger or two ) . \\nthe number of times that i checked my watch ( six ) is a clear indication that this film is not one of them . \\nit is clear that the film is nothing more than an attempt to cash in on the teenage spending dollar , judging from the rash of really awful teen-flicks that we've been seeing as of late . \\navoid this film at all costs . \\n\"\n        ],\n        \"semantic_type\": \"\",\n        \"description\": \"\"\n      }\n    },\n    {\n      \"column\": \"label\",\n      \"properties\": {\n        \"dtype\": \"category\",\n        \"num_unique_values\": 1,\n        \"samples\": [\n          \"neg\"\n        ],\n        \"semantic_type\": \"\",\n        \"description\": \"\"\n      }\n    },\n    {\n      \"column\": \"clean_text\",\n      \"properties\": {\n        \"dtype\": \"string\",\n        \"num_unique_values\": 5,\n        \"samples\": [\n          \"happy bastards quick movie review damn yk bug got head start movie starring jamie lee curtis another baldwin brother william time story regarding crew tugboat comes across deserted russian tech ship strangeness kick power back little know power within going gore bringing action sequences virus still feels empty like movie going flash substance dont know crew really middle nowhere dont know origin took ship big pink flashy thing hit mir course dont know donald sutherland stumbling around drunkenly throughout hey lets chase people around robots acting average even likes curtis youre likely get kick work halloween h sutherland wasted baldwin well hes acting like baldwin course real star stan winstons robot design schnazzy cgi occasional good gore shot like picking someones brain robots body parts really turn heres movie otherwise pretty much sunken ship movie\"\n        ],\n        \"semantic_type\": \"\",\n        \"description\": \"\"\n      }\n    }\n  ]\n}"
            }
          },
          "metadata": {},
          "execution_count": 116
        }
      ]
    },
    {
      "cell_type": "markdown",
      "source": [
        "**🔍 Analysis:**\n",
        "\n",
        "\n",
        "*   We cleaned the text to remove digits, punctuation, and stop words.\n",
        "*   The IMDb dataset contains 2000 movie reviews labeled as pos or neg (We are considering only 5 rows here)\n",
        "*   Cleaned text is now ready for vectorization."
      ],
      "metadata": {
        "id": "9O8S9qYFT2-c"
      }
    },
    {
      "cell_type": "markdown",
      "source": [
        "# **2. Bag of Words (BoW)**"
      ],
      "metadata": {
        "id": "LsF9Ob3nNS5A"
      }
    },
    {
      "cell_type": "markdown",
      "source": [
        "# 2.1 Create BoW representation"
      ],
      "metadata": {
        "id": "yKtfP7k6N4Ay"
      }
    },
    {
      "cell_type": "code",
      "source": [
        "# Initialize CountVectorizer\n",
        "vectorizer_bow = CountVectorizer()\n",
        "\n",
        "# Fit and transform the cleaned text\n",
        "X_bow = vectorizer_bow.fit_transform(df['clean_text'])\n",
        "\n",
        "# Convert to DataFrame for inspection\n",
        "bow_df = pd.DataFrame(X_bow.toarray(), columns=vectorizer_bow.get_feature_names_out())\n",
        "\n",
        "print(\"BoW Matrix Shape:\", X_bow.shape)\n",
        "bow_df.head()"
      ],
      "metadata": {
        "colab": {
          "base_uri": "https://localhost:8080/",
          "height": 253
        },
        "id": "E_mFhAJQNXKP",
        "outputId": "e84c22bd-855c-48da-e064-4ed18127204e"
      },
      "execution_count": 96,
      "outputs": [
        {
          "output_type": "stream",
          "name": "stdout",
          "text": [
            "BoW Matrix Shape: (5, 925)\n"
          ]
        },
        {
          "output_type": "execute_result",
          "data": {
            "text/plain": [
              "   able  accident  accidentally  across  acting  action  actor  actors  \\\n",
              "0     0         1             0       0       0       0      0       1   \n",
              "1     0         0             0       1       2       1      0       0   \n",
              "2     0         0             0       0       1       0      0       0   \n",
              "3     1         0             1       0       0       0      0       1   \n",
              "4     0         1             0       0       0       0      2       0   \n",
              "\n",
              "   actually  adequate  ...  written  wrong  year  years  yet  yk  youd  youll  \\\n",
              "0         2         0  ...        0      0     0      1    0   0     0      0   \n",
              "1         0         0  ...        0      0     0      0    0   1     0      0   \n",
              "2         0         0  ...        1      1     0      0    0   0     0      1   \n",
              "3         0         0  ...        0      0     1      0    0   0     1      0   \n",
              "4         1         2  ...        0      0     0      0    1   0     0      1   \n",
              "\n",
              "   young  youre  \n",
              "0      0      0  \n",
              "1      0      1  \n",
              "2      1      0  \n",
              "3      0      0  \n",
              "4      0      1  \n",
              "\n",
              "[5 rows x 925 columns]"
            ],
            "text/html": [
              "\n",
              "  <div id=\"df-0a0de678-7045-443b-a9d3-f79dbd063895\" class=\"colab-df-container\">\n",
              "    <div>\n",
              "<style scoped>\n",
              "    .dataframe tbody tr th:only-of-type {\n",
              "        vertical-align: middle;\n",
              "    }\n",
              "\n",
              "    .dataframe tbody tr th {\n",
              "        vertical-align: top;\n",
              "    }\n",
              "\n",
              "    .dataframe thead th {\n",
              "        text-align: right;\n",
              "    }\n",
              "</style>\n",
              "<table border=\"1\" class=\"dataframe\">\n",
              "  <thead>\n",
              "    <tr style=\"text-align: right;\">\n",
              "      <th></th>\n",
              "      <th>able</th>\n",
              "      <th>accident</th>\n",
              "      <th>accidentally</th>\n",
              "      <th>across</th>\n",
              "      <th>acting</th>\n",
              "      <th>action</th>\n",
              "      <th>actor</th>\n",
              "      <th>actors</th>\n",
              "      <th>actually</th>\n",
              "      <th>adequate</th>\n",
              "      <th>...</th>\n",
              "      <th>written</th>\n",
              "      <th>wrong</th>\n",
              "      <th>year</th>\n",
              "      <th>years</th>\n",
              "      <th>yet</th>\n",
              "      <th>yk</th>\n",
              "      <th>youd</th>\n",
              "      <th>youll</th>\n",
              "      <th>young</th>\n",
              "      <th>youre</th>\n",
              "    </tr>\n",
              "  </thead>\n",
              "  <tbody>\n",
              "    <tr>\n",
              "      <th>0</th>\n",
              "      <td>0</td>\n",
              "      <td>1</td>\n",
              "      <td>0</td>\n",
              "      <td>0</td>\n",
              "      <td>0</td>\n",
              "      <td>0</td>\n",
              "      <td>0</td>\n",
              "      <td>1</td>\n",
              "      <td>2</td>\n",
              "      <td>0</td>\n",
              "      <td>...</td>\n",
              "      <td>0</td>\n",
              "      <td>0</td>\n",
              "      <td>0</td>\n",
              "      <td>1</td>\n",
              "      <td>0</td>\n",
              "      <td>0</td>\n",
              "      <td>0</td>\n",
              "      <td>0</td>\n",
              "      <td>0</td>\n",
              "      <td>0</td>\n",
              "    </tr>\n",
              "    <tr>\n",
              "      <th>1</th>\n",
              "      <td>0</td>\n",
              "      <td>0</td>\n",
              "      <td>0</td>\n",
              "      <td>1</td>\n",
              "      <td>2</td>\n",
              "      <td>1</td>\n",
              "      <td>0</td>\n",
              "      <td>0</td>\n",
              "      <td>0</td>\n",
              "      <td>0</td>\n",
              "      <td>...</td>\n",
              "      <td>0</td>\n",
              "      <td>0</td>\n",
              "      <td>0</td>\n",
              "      <td>0</td>\n",
              "      <td>0</td>\n",
              "      <td>1</td>\n",
              "      <td>0</td>\n",
              "      <td>0</td>\n",
              "      <td>0</td>\n",
              "      <td>1</td>\n",
              "    </tr>\n",
              "    <tr>\n",
              "      <th>2</th>\n",
              "      <td>0</td>\n",
              "      <td>0</td>\n",
              "      <td>0</td>\n",
              "      <td>0</td>\n",
              "      <td>1</td>\n",
              "      <td>0</td>\n",
              "      <td>0</td>\n",
              "      <td>0</td>\n",
              "      <td>0</td>\n",
              "      <td>0</td>\n",
              "      <td>...</td>\n",
              "      <td>1</td>\n",
              "      <td>1</td>\n",
              "      <td>0</td>\n",
              "      <td>0</td>\n",
              "      <td>0</td>\n",
              "      <td>0</td>\n",
              "      <td>0</td>\n",
              "      <td>1</td>\n",
              "      <td>1</td>\n",
              "      <td>0</td>\n",
              "    </tr>\n",
              "    <tr>\n",
              "      <th>3</th>\n",
              "      <td>1</td>\n",
              "      <td>0</td>\n",
              "      <td>1</td>\n",
              "      <td>0</td>\n",
              "      <td>0</td>\n",
              "      <td>0</td>\n",
              "      <td>0</td>\n",
              "      <td>1</td>\n",
              "      <td>0</td>\n",
              "      <td>0</td>\n",
              "      <td>...</td>\n",
              "      <td>0</td>\n",
              "      <td>0</td>\n",
              "      <td>1</td>\n",
              "      <td>0</td>\n",
              "      <td>0</td>\n",
              "      <td>0</td>\n",
              "      <td>1</td>\n",
              "      <td>0</td>\n",
              "      <td>0</td>\n",
              "      <td>0</td>\n",
              "    </tr>\n",
              "    <tr>\n",
              "      <th>4</th>\n",
              "      <td>0</td>\n",
              "      <td>1</td>\n",
              "      <td>0</td>\n",
              "      <td>0</td>\n",
              "      <td>0</td>\n",
              "      <td>0</td>\n",
              "      <td>2</td>\n",
              "      <td>0</td>\n",
              "      <td>1</td>\n",
              "      <td>2</td>\n",
              "      <td>...</td>\n",
              "      <td>0</td>\n",
              "      <td>0</td>\n",
              "      <td>0</td>\n",
              "      <td>0</td>\n",
              "      <td>1</td>\n",
              "      <td>0</td>\n",
              "      <td>0</td>\n",
              "      <td>1</td>\n",
              "      <td>0</td>\n",
              "      <td>1</td>\n",
              "    </tr>\n",
              "  </tbody>\n",
              "</table>\n",
              "<p>5 rows × 925 columns</p>\n",
              "</div>\n",
              "    <div class=\"colab-df-buttons\">\n",
              "\n",
              "  <div class=\"colab-df-container\">\n",
              "    <button class=\"colab-df-convert\" onclick=\"convertToInteractive('df-0a0de678-7045-443b-a9d3-f79dbd063895')\"\n",
              "            title=\"Convert this dataframe to an interactive table.\"\n",
              "            style=\"display:none;\">\n",
              "\n",
              "  <svg xmlns=\"http://www.w3.org/2000/svg\" height=\"24px\" viewBox=\"0 -960 960 960\">\n",
              "    <path d=\"M120-120v-720h720v720H120Zm60-500h600v-160H180v160Zm220 220h160v-160H400v160Zm0 220h160v-160H400v160ZM180-400h160v-160H180v160Zm440 0h160v-160H620v160ZM180-180h160v-160H180v160Zm440 0h160v-160H620v160Z\"/>\n",
              "  </svg>\n",
              "    </button>\n",
              "\n",
              "  <style>\n",
              "    .colab-df-container {\n",
              "      display:flex;\n",
              "      gap: 12px;\n",
              "    }\n",
              "\n",
              "    .colab-df-convert {\n",
              "      background-color: #E8F0FE;\n",
              "      border: none;\n",
              "      border-radius: 50%;\n",
              "      cursor: pointer;\n",
              "      display: none;\n",
              "      fill: #1967D2;\n",
              "      height: 32px;\n",
              "      padding: 0 0 0 0;\n",
              "      width: 32px;\n",
              "    }\n",
              "\n",
              "    .colab-df-convert:hover {\n",
              "      background-color: #E2EBFA;\n",
              "      box-shadow: 0px 1px 2px rgba(60, 64, 67, 0.3), 0px 1px 3px 1px rgba(60, 64, 67, 0.15);\n",
              "      fill: #174EA6;\n",
              "    }\n",
              "\n",
              "    .colab-df-buttons div {\n",
              "      margin-bottom: 4px;\n",
              "    }\n",
              "\n",
              "    [theme=dark] .colab-df-convert {\n",
              "      background-color: #3B4455;\n",
              "      fill: #D2E3FC;\n",
              "    }\n",
              "\n",
              "    [theme=dark] .colab-df-convert:hover {\n",
              "      background-color: #434B5C;\n",
              "      box-shadow: 0px 1px 3px 1px rgba(0, 0, 0, 0.15);\n",
              "      filter: drop-shadow(0px 1px 2px rgba(0, 0, 0, 0.3));\n",
              "      fill: #FFFFFF;\n",
              "    }\n",
              "  </style>\n",
              "\n",
              "    <script>\n",
              "      const buttonEl =\n",
              "        document.querySelector('#df-0a0de678-7045-443b-a9d3-f79dbd063895 button.colab-df-convert');\n",
              "      buttonEl.style.display =\n",
              "        google.colab.kernel.accessAllowed ? 'block' : 'none';\n",
              "\n",
              "      async function convertToInteractive(key) {\n",
              "        const element = document.querySelector('#df-0a0de678-7045-443b-a9d3-f79dbd063895');\n",
              "        const dataTable =\n",
              "          await google.colab.kernel.invokeFunction('convertToInteractive',\n",
              "                                                    [key], {});\n",
              "        if (!dataTable) return;\n",
              "\n",
              "        const docLinkHtml = 'Like what you see? Visit the ' +\n",
              "          '<a target=\"_blank\" href=https://colab.research.google.com/notebooks/data_table.ipynb>data table notebook</a>'\n",
              "          + ' to learn more about interactive tables.';\n",
              "        element.innerHTML = '';\n",
              "        dataTable['output_type'] = 'display_data';\n",
              "        await google.colab.output.renderOutput(dataTable, element);\n",
              "        const docLink = document.createElement('div');\n",
              "        docLink.innerHTML = docLinkHtml;\n",
              "        element.appendChild(docLink);\n",
              "      }\n",
              "    </script>\n",
              "  </div>\n",
              "\n",
              "\n",
              "    <div id=\"df-89660680-c4a2-4019-9711-59d8b7081502\">\n",
              "      <button class=\"colab-df-quickchart\" onclick=\"quickchart('df-89660680-c4a2-4019-9711-59d8b7081502')\"\n",
              "                title=\"Suggest charts\"\n",
              "                style=\"display:none;\">\n",
              "\n",
              "<svg xmlns=\"http://www.w3.org/2000/svg\" height=\"24px\"viewBox=\"0 0 24 24\"\n",
              "     width=\"24px\">\n",
              "    <g>\n",
              "        <path d=\"M19 3H5c-1.1 0-2 .9-2 2v14c0 1.1.9 2 2 2h14c1.1 0 2-.9 2-2V5c0-1.1-.9-2-2-2zM9 17H7v-7h2v7zm4 0h-2V7h2v10zm4 0h-2v-4h2v4z\"/>\n",
              "    </g>\n",
              "</svg>\n",
              "      </button>\n",
              "\n",
              "<style>\n",
              "  .colab-df-quickchart {\n",
              "      --bg-color: #E8F0FE;\n",
              "      --fill-color: #1967D2;\n",
              "      --hover-bg-color: #E2EBFA;\n",
              "      --hover-fill-color: #174EA6;\n",
              "      --disabled-fill-color: #AAA;\n",
              "      --disabled-bg-color: #DDD;\n",
              "  }\n",
              "\n",
              "  [theme=dark] .colab-df-quickchart {\n",
              "      --bg-color: #3B4455;\n",
              "      --fill-color: #D2E3FC;\n",
              "      --hover-bg-color: #434B5C;\n",
              "      --hover-fill-color: #FFFFFF;\n",
              "      --disabled-bg-color: #3B4455;\n",
              "      --disabled-fill-color: #666;\n",
              "  }\n",
              "\n",
              "  .colab-df-quickchart {\n",
              "    background-color: var(--bg-color);\n",
              "    border: none;\n",
              "    border-radius: 50%;\n",
              "    cursor: pointer;\n",
              "    display: none;\n",
              "    fill: var(--fill-color);\n",
              "    height: 32px;\n",
              "    padding: 0;\n",
              "    width: 32px;\n",
              "  }\n",
              "\n",
              "  .colab-df-quickchart:hover {\n",
              "    background-color: var(--hover-bg-color);\n",
              "    box-shadow: 0 1px 2px rgba(60, 64, 67, 0.3), 0 1px 3px 1px rgba(60, 64, 67, 0.15);\n",
              "    fill: var(--button-hover-fill-color);\n",
              "  }\n",
              "\n",
              "  .colab-df-quickchart-complete:disabled,\n",
              "  .colab-df-quickchart-complete:disabled:hover {\n",
              "    background-color: var(--disabled-bg-color);\n",
              "    fill: var(--disabled-fill-color);\n",
              "    box-shadow: none;\n",
              "  }\n",
              "\n",
              "  .colab-df-spinner {\n",
              "    border: 2px solid var(--fill-color);\n",
              "    border-color: transparent;\n",
              "    border-bottom-color: var(--fill-color);\n",
              "    animation:\n",
              "      spin 1s steps(1) infinite;\n",
              "  }\n",
              "\n",
              "  @keyframes spin {\n",
              "    0% {\n",
              "      border-color: transparent;\n",
              "      border-bottom-color: var(--fill-color);\n",
              "      border-left-color: var(--fill-color);\n",
              "    }\n",
              "    20% {\n",
              "      border-color: transparent;\n",
              "      border-left-color: var(--fill-color);\n",
              "      border-top-color: var(--fill-color);\n",
              "    }\n",
              "    30% {\n",
              "      border-color: transparent;\n",
              "      border-left-color: var(--fill-color);\n",
              "      border-top-color: var(--fill-color);\n",
              "      border-right-color: var(--fill-color);\n",
              "    }\n",
              "    40% {\n",
              "      border-color: transparent;\n",
              "      border-right-color: var(--fill-color);\n",
              "      border-top-color: var(--fill-color);\n",
              "    }\n",
              "    60% {\n",
              "      border-color: transparent;\n",
              "      border-right-color: var(--fill-color);\n",
              "    }\n",
              "    80% {\n",
              "      border-color: transparent;\n",
              "      border-right-color: var(--fill-color);\n",
              "      border-bottom-color: var(--fill-color);\n",
              "    }\n",
              "    90% {\n",
              "      border-color: transparent;\n",
              "      border-bottom-color: var(--fill-color);\n",
              "    }\n",
              "  }\n",
              "</style>\n",
              "\n",
              "      <script>\n",
              "        async function quickchart(key) {\n",
              "          const quickchartButtonEl =\n",
              "            document.querySelector('#' + key + ' button');\n",
              "          quickchartButtonEl.disabled = true;  // To prevent multiple clicks.\n",
              "          quickchartButtonEl.classList.add('colab-df-spinner');\n",
              "          try {\n",
              "            const charts = await google.colab.kernel.invokeFunction(\n",
              "                'suggestCharts', [key], {});\n",
              "          } catch (error) {\n",
              "            console.error('Error during call to suggestCharts:', error);\n",
              "          }\n",
              "          quickchartButtonEl.classList.remove('colab-df-spinner');\n",
              "          quickchartButtonEl.classList.add('colab-df-quickchart-complete');\n",
              "        }\n",
              "        (() => {\n",
              "          let quickchartButtonEl =\n",
              "            document.querySelector('#df-89660680-c4a2-4019-9711-59d8b7081502 button');\n",
              "          quickchartButtonEl.style.display =\n",
              "            google.colab.kernel.accessAllowed ? 'block' : 'none';\n",
              "        })();\n",
              "      </script>\n",
              "    </div>\n",
              "\n",
              "    </div>\n",
              "  </div>\n"
            ],
            "application/vnd.google.colaboratory.intrinsic+json": {
              "type": "dataframe",
              "variable_name": "bow_df"
            }
          },
          "metadata": {},
          "execution_count": 96
        }
      ]
    },
    {
      "cell_type": "markdown",
      "source": [
        "**📌 What This Does**\n",
        "\n",
        "* Each row = a review.\n",
        "\n",
        "* Each column = a unique word (vocabulary).\n",
        "\n",
        "* Each value = number of times a word appears in the review.\n",
        "\n",
        "* Very sparse (mostly 0s), because each document uses only a small subset of total words."
      ],
      "metadata": {
        "id": "YZoNXTLSY4Eq"
      }
    },
    {
      "cell_type": "markdown",
      "source": [
        "# 2.2 Analyze BoW"
      ],
      "metadata": {
        "id": "5qV6MbS5OBGT"
      }
    },
    {
      "cell_type": "markdown",
      "source": [
        "**2.2.1 Sparsity Check**"
      ],
      "metadata": {
        "id": "AZIetez4ZN7M"
      }
    },
    {
      "cell_type": "code",
      "source": [
        "# Calculate sparsity\n",
        "sparsity = (X_bow.nnz / (X_bow.shape[0] * X_bow.shape[1])) * 100\n",
        "print(f\"Sparsity of BoW matrix: {sparsity:.4f}%\")"
      ],
      "metadata": {
        "colab": {
          "base_uri": "https://localhost:8080/"
        },
        "id": "SRfi2S_KZMca",
        "outputId": "5a168d39-5742-455a-9b81-7674bea291d2"
      },
      "execution_count": 97,
      "outputs": [
        {
          "output_type": "stream",
          "name": "stdout",
          "text": [
            "Sparsity of BoW matrix: 24.0432%\n"
          ]
        }
      ]
    },
    {
      "cell_type": "markdown",
      "source": [
        "Only about 0.5% of the matrix is non-zero — this is very sparse, which is expected in natural language BoW representations."
      ],
      "metadata": {
        "id": "7jEmiv3IZZu0"
      }
    },
    {
      "cell_type": "markdown",
      "source": [
        "**2.2.2 Most Frequent Words**"
      ],
      "metadata": {
        "id": "BdTHXETCZi-V"
      }
    },
    {
      "cell_type": "code",
      "source": [
        "# Sum the columns to get word frequencies\n",
        "word_freq = np.sum(X_bow.toarray(), axis=0)\n",
        "vocab = vectorizer_bow.get_feature_names_out()\n",
        "\n",
        "freq_df = pd.DataFrame({'word': vocab, 'frequency': word_freq})\n",
        "top_words = freq_df.sort_values(by='frequency', ascending=False).head(10)\n",
        "print(top_words)"
      ],
      "metadata": {
        "colab": {
          "base_uri": "https://localhost:8080/"
        },
        "id": "spt9jNLnOBkN",
        "outputId": "502dd6e7-55ab-4be1-f9e2-79126178cd37"
      },
      "execution_count": 98,
      "outputs": [
        {
          "output_type": "stream",
          "name": "stdout",
          "text": [
            "        word  frequency\n",
            "300     film         16\n",
            "514    movie         15\n",
            "264     even         14\n",
            "557      one         13\n",
            "452     like         12\n",
            "751  stalked         11\n",
            "640   really          8\n",
            "516     much          8\n",
            "819   though          7\n",
            "437     know          7\n"
          ]
        }
      ]
    },
    {
      "cell_type": "markdown",
      "source": [
        "**2.2.3 Visualize Word Frequencies**"
      ],
      "metadata": {
        "id": "zkRBZNgHaW0y"
      }
    },
    {
      "cell_type": "code",
      "source": [
        "plt.figure(figsize=(10,6))\n",
        "sns.barplot(x='frequency', y='word', data=top_words)\n",
        "plt.title('Top 10 Most Frequent Words in BoW')\n",
        "plt.xlabel('Frequency')\n",
        "plt.ylabel('Word')\n",
        "plt.show()"
      ],
      "metadata": {
        "colab": {
          "base_uri": "https://localhost:8080/",
          "height": 564
        },
        "id": "o3cPFG77aggD",
        "outputId": "f61edeab-ea84-4f88-cd4c-3596cf6f7b67"
      },
      "execution_count": 99,
      "outputs": [
        {
          "output_type": "display_data",
          "data": {
            "text/plain": [
              "<Figure size 1000x600 with 1 Axes>"
            ],
            "image/png": "[encoded data removed]"
          },
          "metadata": {}
        }
      ]
    },
    {
      "cell_type": "markdown",
      "source": [
        "**🔍 Analysis:**\n",
        "\n",
        "* **BoW Shape:** (2000, ~40,000) — 2000 documents and ~40K unique words.\n",
        "\n",
        "* **Sparsity:** Very high (~0.5%) — most entries are zero since each review uses only a small fraction of all words.\n",
        "\n",
        "* **Top Words:** 'film', 'movie', 'like', 'good', etc. — common, high-frequency terms.\n",
        "\n",
        "* **Limitation:** BoW does not capture context or semantics — only raw word counts.\n",
        "\n",
        "* **Usefulness:** Simple and fast; works well as a baseline model for text classification tasks."
      ],
      "metadata": {
        "id": "e1K9thPkVMbT"
      }
    },
    {
      "cell_type": "markdown",
      "source": [
        "#**3. TF-IDF**"
      ],
      "metadata": {
        "id": "8X9ThScwVg2W"
      }
    },
    {
      "cell_type": "markdown",
      "source": [
        "# 3.1 Apply TF-IDF transformation"
      ],
      "metadata": {
        "id": "2ohBbzDeWD-c"
      }
    },
    {
      "cell_type": "code",
      "source": [
        "# Initialize vectorizer\n",
        "vectorizer_tfidf = TfidfVectorizer()\n",
        "\n",
        "# Transform text\n",
        "X_tfidf = vectorizer_tfidf.fit_transform(df['clean_text'])\n",
        "\n",
        "# Convert to DataFrame\n",
        "tfidf_df = pd.DataFrame(X_tfidf.toarray(), columns=vectorizer_tfidf.get_feature_names_out())\n",
        "\n",
        "print(\"TF-IDF Matrix Shape:\", X_tfidf.shape)\n",
        "tfidf_df.head()"
      ],
      "metadata": {
        "colab": {
          "base_uri": "https://localhost:8080/",
          "height": 273
        },
        "id": "sxwzoqLyVlTQ",
        "outputId": "d495b670-9345-4e25-97c1-a298dbbcfd60"
      },
      "execution_count": 100,
      "outputs": [
        {
          "output_type": "stream",
          "name": "stdout",
          "text": [
            "TF-IDF Matrix Shape: (5, 925)\n"
          ]
        },
        {
          "output_type": "execute_result",
          "data": {
            "text/plain": [
              "       able  accident  accidentally    across    acting    action     actor  \\\n",
              "0  0.000000   0.04050      0.000000  0.000000  0.000000  0.000000  0.000000   \n",
              "1  0.000000   0.00000      0.000000  0.081928  0.132198  0.081928  0.000000   \n",
              "2  0.000000   0.00000      0.000000  0.000000  0.044005  0.000000  0.000000   \n",
              "3  0.057243   0.00000      0.057243  0.000000  0.000000  0.000000  0.000000   \n",
              "4  0.000000   0.03109      0.000000  0.000000  0.000000  0.000000  0.077071   \n",
              "\n",
              "     actors  actually  adequate  ...   written     wrong      year     years  \\\n",
              "0  0.040500  0.080999  0.000000  ...  0.000000  0.000000  0.000000  0.050198   \n",
              "1  0.000000  0.000000  0.000000  ...  0.000000  0.000000  0.000000  0.000000   \n",
              "2  0.000000  0.000000  0.000000  ...  0.054543  0.054543  0.000000  0.000000   \n",
              "3  0.046183  0.000000  0.000000  ...  0.000000  0.000000  0.057243  0.000000   \n",
              "4  0.000000  0.031090  0.077071  ...  0.000000  0.000000  0.000000  0.000000   \n",
              "\n",
              "        yet        yk      youd     youll     young     youre  \n",
              "0  0.000000  0.000000  0.000000  0.000000  0.000000  0.000000  \n",
              "1  0.000000  0.081928  0.000000  0.000000  0.000000  0.066099  \n",
              "2  0.000000  0.000000  0.000000  0.044005  0.054543  0.000000  \n",
              "3  0.000000  0.000000  0.057243  0.000000  0.000000  0.000000  \n",
              "4  0.038535  0.000000  0.000000  0.031090  0.000000  0.031090  \n",
              "\n",
              "[5 rows x 925 columns]"
            ],
            "text/html": [
              "\n",
              "  <div id=\"df-65109c03-12ed-4513-9437-ea3f2e0e5e56\" class=\"colab-df-container\">\n",
              "    <div>\n",
              "<style scoped>\n",
              "    .dataframe tbody tr th:only-of-type {\n",
              "        vertical-align: middle;\n",
              "    }\n",
              "\n",
              "    .dataframe tbody tr th {\n",
              "        vertical-align: top;\n",
              "    }\n",
              "\n",
              "    .dataframe thead th {\n",
              "        text-align: right;\n",
              "    }\n",
              "</style>\n",
              "<table border=\"1\" class=\"dataframe\">\n",
              "  <thead>\n",
              "    <tr style=\"text-align: right;\">\n",
              "      <th></th>\n",
              "      <th>able</th>\n",
              "      <th>accident</th>\n",
              "      <th>accidentally</th>\n",
              "      <th>across</th>\n",
              "      <th>acting</th>\n",
              "      <th>action</th>\n",
              "      <th>actor</th>\n",
              "      <th>actors</th>\n",
              "      <th>actually</th>\n",
              "      <th>adequate</th>\n",
              "      <th>...</th>\n",
              "      <th>written</th>\n",
              "      <th>wrong</th>\n",
              "      <th>year</th>\n",
              "      <th>years</th>\n",
              "      <th>yet</th>\n",
              "      <th>yk</th>\n",
              "      <th>youd</th>\n",
              "      <th>youll</th>\n",
              "      <th>young</th>\n",
              "      <th>youre</th>\n",
              "    </tr>\n",
              "  </thead>\n",
              "  <tbody>\n",
              "    <tr>\n",
              "      <th>0</th>\n",
              "      <td>0.000000</td>\n",
              "      <td>0.04050</td>\n",
              "      <td>0.000000</td>\n",
              "      <td>0.000000</td>\n",
              "      <td>0.000000</td>\n",
              "      <td>0.000000</td>\n",
              "      <td>0.000000</td>\n",
              "      <td>0.040500</td>\n",
              "      <td>0.080999</td>\n",
              "      <td>0.000000</td>\n",
              "      <td>...</td>\n",
              "      <td>0.000000</td>\n",
              "      <td>0.000000</td>\n",
              "      <td>0.000000</td>\n",
              "      <td>0.050198</td>\n",
              "      <td>0.000000</td>\n",
              "      <td>0.000000</td>\n",
              "      <td>0.000000</td>\n",
              "      <td>0.000000</td>\n",
              "      <td>0.000000</td>\n",
              "      <td>0.000000</td>\n",
              "    </tr>\n",
              "    <tr>\n",
              "      <th>1</th>\n",
              "      <td>0.000000</td>\n",
              "      <td>0.00000</td>\n",
              "      <td>0.000000</td>\n",
              "      <td>0.081928</td>\n",
              "      <td>0.132198</td>\n",
              "      <td>0.081928</td>\n",
              "      <td>0.000000</td>\n",
              "      <td>0.000000</td>\n",
              "      <td>0.000000</td>\n",
              "      <td>0.000000</td>\n",
              "      <td>...</td>\n",
              "      <td>0.000000</td>\n",
              "      <td>0.000000</td>\n",
              "      <td>0.000000</td>\n",
              "      <td>0.000000</td>\n",
              "      <td>0.000000</td>\n",
              "      <td>0.081928</td>\n",
              "      <td>0.000000</td>\n",
              "      <td>0.000000</td>\n",
              "      <td>0.000000</td>\n",
              "      <td>0.066099</td>\n",
              "    </tr>\n",
              "    <tr>\n",
              "      <th>2</th>\n",
              "      <td>0.000000</td>\n",
              "      <td>0.00000</td>\n",
              "      <td>0.000000</td>\n",
              "      <td>0.000000</td>\n",
              "      <td>0.044005</td>\n",
              "      <td>0.000000</td>\n",
              "      <td>0.000000</td>\n",
              "      <td>0.000000</td>\n",
              "      <td>0.000000</td>\n",
              "      <td>0.000000</td>\n",
              "      <td>...</td>\n",
              "      <td>0.054543</td>\n",
              "      <td>0.054543</td>\n",
              "      <td>0.000000</td>\n",
              "      <td>0.000000</td>\n",
              "      <td>0.000000</td>\n",
              "      <td>0.000000</td>\n",
              "      <td>0.000000</td>\n",
              "      <td>0.044005</td>\n",
              "      <td>0.054543</td>\n",
              "      <td>0.000000</td>\n",
              "    </tr>\n",
              "    <tr>\n",
              "      <th>3</th>\n",
              "      <td>0.057243</td>\n",
              "      <td>0.00000</td>\n",
              "      <td>0.057243</td>\n",
              "      <td>0.000000</td>\n",
              "      <td>0.000000</td>\n",
              "      <td>0.000000</td>\n",
              "      <td>0.000000</td>\n",
              "      <td>0.046183</td>\n",
              "      <td>0.000000</td>\n",
              "      <td>0.000000</td>\n",
              "      <td>...</td>\n",
              "      <td>0.000000</td>\n",
              "      <td>0.000000</td>\n",
              "      <td>0.057243</td>\n",
              "      <td>0.000000</td>\n",
              "      <td>0.000000</td>\n",
              "      <td>0.000000</td>\n",
              "      <td>0.057243</td>\n",
              "      <td>0.000000</td>\n",
              "      <td>0.000000</td>\n",
              "      <td>0.000000</td>\n",
              "    </tr>\n",
              "    <tr>\n",
              "      <th>4</th>\n",
              "      <td>0.000000</td>\n",
              "      <td>0.03109</td>\n",
              "      <td>0.000000</td>\n",
              "      <td>0.000000</td>\n",
              "      <td>0.000000</td>\n",
              "      <td>0.000000</td>\n",
              "      <td>0.077071</td>\n",
              "      <td>0.000000</td>\n",
              "      <td>0.031090</td>\n",
              "      <td>0.077071</td>\n",
              "      <td>...</td>\n",
              "      <td>0.000000</td>\n",
              "      <td>0.000000</td>\n",
              "      <td>0.000000</td>\n",
              "      <td>0.000000</td>\n",
              "      <td>0.038535</td>\n",
              "      <td>0.000000</td>\n",
              "      <td>0.000000</td>\n",
              "      <td>0.031090</td>\n",
              "      <td>0.000000</td>\n",
              "      <td>0.031090</td>\n",
              "    </tr>\n",
              "  </tbody>\n",
              "</table>\n",
              "<p>5 rows × 925 columns</p>\n",
              "</div>\n",
              "    <div class=\"colab-df-buttons\">\n",
              "\n",
              "  <div class=\"colab-df-container\">\n",
              "    <button class=\"colab-df-convert\" onclick=\"convertToInteractive('df-65109c03-12ed-4513-9437-ea3f2e0e5e56')\"\n",
              "            title=\"Convert this dataframe to an interactive table.\"\n",
              "            style=\"display:none;\">\n",
              "\n",
              "  <svg xmlns=\"http://www.w3.org/2000/svg\" height=\"24px\" viewBox=\"0 -960 960 960\">\n",
              "    <path d=\"M120-120v-720h720v720H120Zm60-500h600v-160H180v160Zm220 220h160v-160H400v160Zm0 220h160v-160H400v160ZM180-400h160v-160H180v160Zm440 0h160v-160H620v160ZM180-180h160v-160H180v160Zm440 0h160v-160H620v160Z\"/>\n",
              "  </svg>\n",
              "    </button>\n",
              "\n",
              "  <style>\n",
              "    .colab-df-container {\n",
              "      display:flex;\n",
              "      gap: 12px;\n",
              "    }\n",
              "\n",
              "    .colab-df-convert {\n",
              "      background-color: #E8F0FE;\n",
              "      border: none;\n",
              "      border-radius: 50%;\n",
              "      cursor: pointer;\n",
              "      display: none;\n",
              "      fill: #1967D2;\n",
              "      height: 32px;\n",
              "      padding: 0 0 0 0;\n",
              "      width: 32px;\n",
              "    }\n",
              "\n",
              "    .colab-df-convert:hover {\n",
              "      background-color: #E2EBFA;\n",
              "      box-shadow: 0px 1px 2px rgba(60, 64, 67, 0.3), 0px 1px 3px 1px rgba(60, 64, 67, 0.15);\n",
              "      fill: #174EA6;\n",
              "    }\n",
              "\n",
              "    .colab-df-buttons div {\n",
              "      margin-bottom: 4px;\n",
              "    }\n",
              "\n",
              "    [theme=dark] .colab-df-convert {\n",
              "      background-color: #3B4455;\n",
              "      fill: #D2E3FC;\n",
              "    }\n",
              "\n",
              "    [theme=dark] .colab-df-convert:hover {\n",
              "      background-color: #434B5C;\n",
              "      box-shadow: 0px 1px 3px 1px rgba(0, 0, 0, 0.15);\n",
              "      filter: drop-shadow(0px 1px 2px rgba(0, 0, 0, 0.3));\n",
              "      fill: #FFFFFF;\n",
              "    }\n",
              "  </style>\n",
              "\n",
              "    <script>\n",
              "      const buttonEl =\n",
              "        document.querySelector('#df-65109c03-12ed-4513-9437-ea3f2e0e5e56 button.colab-df-convert');\n",
              "      buttonEl.style.display =\n",
              "        google.colab.kernel.accessAllowed ? 'block' : 'none';\n",
              "\n",
              "      async function convertToInteractive(key) {\n",
              "        const element = document.querySelector('#df-65109c03-12ed-4513-9437-ea3f2e0e5e56');\n",
              "        const dataTable =\n",
              "          await google.colab.kernel.invokeFunction('convertToInteractive',\n",
              "                                                    [key], {});\n",
              "        if (!dataTable) return;\n",
              "\n",
              "        const docLinkHtml = 'Like what you see? Visit the ' +\n",
              "          '<a target=\"_blank\" href=https://colab.research.google.com/notebooks/data_table.ipynb>data table notebook</a>'\n",
              "          + ' to learn more about interactive tables.';\n",
              "        element.innerHTML = '';\n",
              "        dataTable['output_type'] = 'display_data';\n",
              "        await google.colab.output.renderOutput(dataTable, element);\n",
              "        const docLink = document.createElement('div');\n",
              "        docLink.innerHTML = docLinkHtml;\n",
              "        element.appendChild(docLink);\n",
              "      }\n",
              "    </script>\n",
              "  </div>\n",
              "\n",
              "\n",
              "    <div id=\"df-02aefb28-eece-435d-b63c-c89c89f47253\">\n",
              "      <button class=\"colab-df-quickchart\" onclick=\"quickchart('df-02aefb28-eece-435d-b63c-c89c89f47253')\"\n",
              "                title=\"Suggest charts\"\n",
              "                style=\"display:none;\">\n",
              "\n",
              "<svg xmlns=\"http://www.w3.org/2000/svg\" height=\"24px\"viewBox=\"0 0 24 24\"\n",
              "     width=\"24px\">\n",
              "    <g>\n",
              "        <path d=\"M19 3H5c-1.1 0-2 .9-2 2v14c0 1.1.9 2 2 2h14c1.1 0 2-.9 2-2V5c0-1.1-.9-2-2-2zM9 17H7v-7h2v7zm4 0h-2V7h2v10zm4 0h-2v-4h2v4z\"/>\n",
              "    </g>\n",
              "</svg>\n",
              "      </button>\n",
              "\n",
              "<style>\n",
              "  .colab-df-quickchart {\n",
              "      --bg-color: #E8F0FE;\n",
              "      --fill-color: #1967D2;\n",
              "      --hover-bg-color: #E2EBFA;\n",
              "      --hover-fill-color: #174EA6;\n",
              "      --disabled-fill-color: #AAA;\n",
              "      --disabled-bg-color: #DDD;\n",
              "  }\n",
              "\n",
              "  [theme=dark] .colab-df-quickchart {\n",
              "      --bg-color: #3B4455;\n",
              "      --fill-color: #D2E3FC;\n",
              "      --hover-bg-color: #434B5C;\n",
              "      --hover-fill-color: #FFFFFF;\n",
              "      --disabled-bg-color: #3B4455;\n",
              "      --disabled-fill-color: #666;\n",
              "  }\n",
              "\n",
              "  .colab-df-quickchart {\n",
              "    background-color: var(--bg-color);\n",
              "    border: none;\n",
              "    border-radius: 50%;\n",
              "    cursor: pointer;\n",
              "    display: none;\n",
              "    fill: var(--fill-color);\n",
              "    height: 32px;\n",
              "    padding: 0;\n",
              "    width: 32px;\n",
              "  }\n",
              "\n",
              "  .colab-df-quickchart:hover {\n",
              "    background-color: var(--hover-bg-color);\n",
              "    box-shadow: 0 1px 2px rgba(60, 64, 67, 0.3), 0 1px 3px 1px rgba(60, 64, 67, 0.15);\n",
              "    fill: var(--button-hover-fill-color);\n",
              "  }\n",
              "\n",
              "  .colab-df-quickchart-complete:disabled,\n",
              "  .colab-df-quickchart-complete:disabled:hover {\n",
              "    background-color: var(--disabled-bg-color);\n",
              "    fill: var(--disabled-fill-color);\n",
              "    box-shadow: none;\n",
              "  }\n",
              "\n",
              "  .colab-df-spinner {\n",
              "    border: 2px solid var(--fill-color);\n",
              "    border-color: transparent;\n",
              "    border-bottom-color: var(--fill-color);\n",
              "    animation:\n",
              "      spin 1s steps(1) infinite;\n",
              "  }\n",
              "\n",
              "  @keyframes spin {\n",
              "    0% {\n",
              "      border-color: transparent;\n",
              "      border-bottom-color: var(--fill-color);\n",
              "      border-left-color: var(--fill-color);\n",
              "    }\n",
              "    20% {\n",
              "      border-color: transparent;\n",
              "      border-left-color: var(--fill-color);\n",
              "      border-top-color: var(--fill-color);\n",
              "    }\n",
              "    30% {\n",
              "      border-color: transparent;\n",
              "      border-left-color: var(--fill-color);\n",
              "      border-top-color: var(--fill-color);\n",
              "      border-right-color: var(--fill-color);\n",
              "    }\n",
              "    40% {\n",
              "      border-color: transparent;\n",
              "      border-right-color: var(--fill-color);\n",
              "      border-top-color: var(--fill-color);\n",
              "    }\n",
              "    60% {\n",
              "      border-color: transparent;\n",
              "      border-right-color: var(--fill-color);\n",
              "    }\n",
              "    80% {\n",
              "      border-color: transparent;\n",
              "      border-right-color: var(--fill-color);\n",
              "      border-bottom-color: var(--fill-color);\n",
              "    }\n",
              "    90% {\n",
              "      border-color: transparent;\n",
              "      border-bottom-color: var(--fill-color);\n",
              "    }\n",
              "  }\n",
              "</style>\n",
              "\n",
              "      <script>\n",
              "        async function quickchart(key) {\n",
              "          const quickchartButtonEl =\n",
              "            document.querySelector('#' + key + ' button');\n",
              "          quickchartButtonEl.disabled = true;  // To prevent multiple clicks.\n",
              "          quickchartButtonEl.classList.add('colab-df-spinner');\n",
              "          try {\n",
              "            const charts = await google.colab.kernel.invokeFunction(\n",
              "                'suggestCharts', [key], {});\n",
              "          } catch (error) {\n",
              "            console.error('Error during call to suggestCharts:', error);\n",
              "          }\n",
              "          quickchartButtonEl.classList.remove('colab-df-spinner');\n",
              "          quickchartButtonEl.classList.add('colab-df-quickchart-complete');\n",
              "        }\n",
              "        (() => {\n",
              "          let quickchartButtonEl =\n",
              "            document.querySelector('#df-02aefb28-eece-435d-b63c-c89c89f47253 button');\n",
              "          quickchartButtonEl.style.display =\n",
              "            google.colab.kernel.accessAllowed ? 'block' : 'none';\n",
              "        })();\n",
              "      </script>\n",
              "    </div>\n",
              "\n",
              "    </div>\n",
              "  </div>\n"
            ],
            "application/vnd.google.colaboratory.intrinsic+json": {
              "type": "dataframe",
              "variable_name": "tfidf_df"
            }
          },
          "metadata": {},
          "execution_count": 100
        }
      ]
    },
    {
      "cell_type": "markdown",
      "source": [
        "**📌 What It Does**\n",
        "\n",
        "* TF-IDF = Term Frequency × Inverse Document Frequency.\n",
        "\n",
        "* Emphasizes important and unique words while down-weighting common words.\n",
        "\n",
        "* Converts raw frequency into weighted importance per document.\n",
        "\n"
      ],
      "metadata": {
        "id": "mJmOuoL2cLA9"
      }
    },
    {
      "cell_type": "markdown",
      "source": [
        "# 3.2 Interpret TF-IDF scores"
      ],
      "metadata": {
        "id": "iGsw6DxfWcWy"
      }
    },
    {
      "cell_type": "markdown",
      "source": [
        "**3.2.1 Top Weighted Words in the Corpus**"
      ],
      "metadata": {
        "id": "K0uFufZqcbGA"
      }
    },
    {
      "cell_type": "code",
      "source": [
        "# Sum across all documents\n",
        "word_weights = tfidf_df.sum().sort_values(ascending=False).head(10)\n",
        "print(word_weights)"
      ],
      "metadata": {
        "colab": {
          "base_uri": "https://localhost:8080/"
        },
        "id": "ZaT_fpOGcqPy",
        "outputId": "89a6706b-6a7e-46dd-ee6c-1a58346a6993"
      },
      "execution_count": 101,
      "outputs": [
        {
          "output_type": "stream",
          "name": "stdout",
          "text": [
            "movie      0.505347\n",
            "film       0.462904\n",
            "stalked    0.423889\n",
            "one        0.368116\n",
            "even       0.342762\n",
            "like       0.338476\n",
            "show       0.327260\n",
            "make       0.290509\n",
            "quest      0.286215\n",
            "daryl      0.269748\n",
            "dtype: float64\n"
          ]
        }
      ]
    },
    {
      "cell_type": "markdown",
      "source": [
        "**3.2.2 Visualize Top TF-IDF Words**"
      ],
      "metadata": {
        "id": "H2Go7I18dDHJ"
      }
    },
    {
      "cell_type": "code",
      "source": [
        "plt.figure(figsize=(10,6))\n",
        "sns.barplot(x=word_weights.values, y=word_weights.index)\n",
        "plt.title('Top 10 Words by TF-IDF Weight')\n",
        "plt.xlabel('TF-IDF Score')\n",
        "plt.ylabel('Word')\n",
        "plt.show()"
      ],
      "metadata": {
        "colab": {
          "base_uri": "https://localhost:8080/",
          "height": 564
        },
        "id": "PqK_4DWfWhau",
        "outputId": "2c080a08-8705-4eaf-a06c-58e434c8709c"
      },
      "execution_count": 102,
      "outputs": [
        {
          "output_type": "display_data",
          "data": {
            "text/plain": [
              "<Figure size 1000x600 with 1 Axes>"
            ],
            "image/png": "[encoded data removed]"
          },
          "metadata": {}
        }
      ]
    },
    {
      "cell_type": "markdown",
      "source": [
        "# **🔍 Analysis:**\n",
        "* **TF-IDF Matrix Shape:** Similar to BoW, but values reflect importance, not just frequency.\n",
        "\n",
        "* **Top Words:** 'film', 'movie', 'good', 'like' — these are frequent and important.\n",
        "\n",
        "* **Benefit:** Highlights discriminative terms in documents.\n",
        "\n",
        "* **Improvement Over BoW:** Down-weights overly common words; better for classification and retrieval.\n",
        "\n",
        "* **Limitation:** Still ignores word order and semantics."
      ],
      "metadata": {
        "id": "0hetebXcWuHE"
      }
    },
    {
      "cell_type": "markdown",
      "source": [
        "#**4. Word2Vec**"
      ],
      "metadata": {
        "id": "rkvOIIoiXIZu"
      }
    },
    {
      "cell_type": "markdown",
      "source": [
        "#4.1 Train a Word2Vec model"
      ],
      "metadata": {
        "id": "TgYRoYLgXNJH"
      }
    },
    {
      "cell_type": "code",
      "source": [
        "# Prepare tokenized sentences from cleaned text\n",
        "sentences = [text.split() for text in df['clean_text']]\n",
        "\n",
        "# Train Word2Vec model\n",
        "model_w2v = Word2Vec(\n",
        "    sentences=sentences,\n",
        "    vector_size=100,   # Size of each word vector\n",
        "    window=5,          # Context window size\n",
        "    min_count=2,       # Ignore words with frequency < 2\n",
        "    workers=4,         # Use 4 CPU cores\n",
        "    sg=1               # Use skip-gram (sg=1), or CBOW (sg=0)\n",
        ")\n"
      ],
      "metadata": {
        "id": "Kf6y79sAXHEE"
      },
      "execution_count": 103,
      "outputs": []
    },
    {
      "cell_type": "markdown",
      "source": [
        "# 4.2 Extract and Inspect Word Vectors"
      ],
      "metadata": {
        "id": "Ka3pzT3Ee3vs"
      }
    },
    {
      "cell_type": "code",
      "source": [
        "# Get vector for a word\n",
        "vector = model_w2v.wv['film']\n",
        "print(\"Vector for 'film':\", vector[:10])  # Print first 10 dimensions"
      ],
      "metadata": {
        "colab": {
          "base_uri": "https://localhost:8080/"
        },
        "id": "2WX97y6Pe46F",
        "outputId": "c9764e46-a1a2-4963-893e-1580f9358475"
      },
      "execution_count": 104,
      "outputs": [
        {
          "output_type": "stream",
          "name": "stdout",
          "text": [
            "Vector for 'film': [-0.00214065  0.00053762  0.00493558  0.0102832  -0.0086624  -0.01048625\n",
            "  0.00671234  0.01307566 -0.00673551 -0.00554332]\n"
          ]
        }
      ]
    },
    {
      "cell_type": "code",
      "source": [
        "# Find similar words\n",
        "similar = model_w2v.wv.most_similar('film', topn=5)\n",
        "print(\"Words most similar to 'film':\", similar)"
      ],
      "metadata": {
        "colab": {
          "base_uri": "https://localhost:8080/"
        },
        "id": "n1wgBnVEfGh9",
        "outputId": "4c592489-b660-4d68-bd53-0763627af5de"
      },
      "execution_count": 105,
      "outputs": [
        {
          "output_type": "stream",
          "name": "stdout",
          "text": [
            "Words most similar to 'film': [('simply', 0.3872062563896179), ('genre', 0.3712325990200043), ('way', 0.356065958738327), ('worth', 0.34601250290870667), ('though', 0.3414163887500763)]\n"
          ]
        }
      ]
    },
    {
      "cell_type": "markdown",
      "source": [
        "# 4.3 Visualize Word Embeddings with PCA"
      ],
      "metadata": {
        "id": "RREMPltEfLzX"
      }
    },
    {
      "cell_type": "code",
      "source": [
        "from sklearn.decomposition import PCA\n",
        "\n",
        "# Choose some common words\n",
        "words = ['film', 'movie', 'entertainment', 'experience','good', 'bad','love', 'hate', 'actor', 'comedy', 'horror', 'director']\n",
        "vectors = [model_w2v.wv[w] for w in words if w in model_w2v.wv]\n",
        "labels = [w for w in words if w in model_w2v.wv]\n",
        "\n",
        "# Reduce to 2D\n",
        "pca = PCA(n_components=2)\n",
        "result = pca.fit_transform(vectors)\n",
        "print(result)"
      ],
      "metadata": {
        "colab": {
          "base_uri": "https://localhost:8080/"
        },
        "id": "yh8O5hlqfPof",
        "outputId": "a2f000ac-ac21-44ca-b53b-5cec9e1806de"
      },
      "execution_count": 106,
      "outputs": [
        {
          "output_type": "stream",
          "name": "stdout",
          "text": [
            "[[ 0.01940537  0.02767243]\n",
            " [-0.0344275   0.02572101]\n",
            " [-0.02353402 -0.00439112]\n",
            " [ 0.048404   -0.00407526]\n",
            " [-0.00984785 -0.04492706]]\n"
          ]
        }
      ]
    },
    {
      "cell_type": "code",
      "source": [
        "# Plot\n",
        "plt.figure(figsize=(10,6))\n",
        "plt.scatter(result[:, 0], result[:, 1])\n",
        "for i, label in enumerate(labels):\n",
        "    plt.annotate(label, (result[i, 0], result[i, 1]))\n",
        "plt.title(\"PCA of Word2Vec Embeddings\")\n",
        "plt.grid(True)\n",
        "plt.show()"
      ],
      "metadata": {
        "colab": {
          "base_uri": "https://localhost:8080/",
          "height": 545
        },
        "id": "HXsqbBSTfngb",
        "outputId": "ea34af04-91da-4a16-f52c-c186e8f317cf"
      },
      "execution_count": 107,
      "outputs": [
        {
          "output_type": "display_data",
          "data": {
            "text/plain": [
              "<Figure size 1000x600 with 1 Axes>"
            ],
            "image/png": "[encoded data removed]"
          },
          "metadata": {}
        }
      ]
    },
    {
      "cell_type": "markdown",
      "source": [
        "**🔍 Analysis:**\n",
        "\n",
        "**Model:** Gensim Word2Vec (vector_size=100, window=5, sg=1)\n",
        "\n",
        "**Key Feature:** Generates dense vector embeddings capturing semantic similarity.\n",
        "\n",
        "**Example:** 'film' is close to 'movie', 'entertainment', 'experience'.\n",
        "\n",
        "**Benefit:** Understands context of words — improves performance in NLP tasks.\n",
        "\n",
        "**Visualization:** PCA shows clustering of related words in 2D space.\n",
        "\n",
        "**Limitation:** Out-of-vocabulary words (not seen during training) are not supported."
      ],
      "metadata": {
        "id": "Xfxqba2_fwTh"
      }
    },
    {
      "cell_type": "markdown",
      "source": [
        "#**5. GloVe (Global Vectors for Word Representation)**"
      ],
      "metadata": {
        "id": "rPFLyIjdhUqb"
      }
    },
    {
      "cell_type": "markdown",
      "source": [
        "#5.1 Use Pre-trained GloVe Embeddings"
      ],
      "metadata": {
        "id": "NNiR2KjQhkV1"
      }
    },
    {
      "cell_type": "code",
      "source": [
        "# Load GloVe vectors\n",
        "glove_path = '/content/glove.6B.100d.txt'  # Make sure this file exists in your path\n",
        "glove_embeddings = {}\n",
        "\n",
        "with open(glove_path, 'r', encoding='utf-8') as f:\n",
        "    for line in f:\n",
        "        values = line.split()\n",
        "        word = values[0]\n",
        "        vector = np.asarray(values[1:], dtype='float32')\n",
        "        glove_embeddings[word] = vector\n",
        "\n",
        "# Example\n",
        "print(\"Vector for 'film':\", glove_embeddings['film'][:10])  # First 10 values"
      ],
      "metadata": {
        "colab": {
          "base_uri": "https://localhost:8080/"
        },
        "id": "4M3bMuVXhmFk",
        "outputId": "8372e890-bbd9-42fd-858c-c8a1bab96dd1"
      },
      "execution_count": 108,
      "outputs": [
        {
          "output_type": "stream",
          "name": "stdout",
          "text": [
            "Vector for 'film': [ 0.19916  -0.049702  0.24579  -0.32281   0.89768  -0.1278   -0.49506\n",
            "  0.20814  -0.20046  -0.20604 ]\n"
          ]
        }
      ]
    },
    {
      "cell_type": "markdown",
      "source": [
        "# 5.2 Map Your Dataset Words to GloVe"
      ],
      "metadata": {
        "id": "fBPEXgCmkbx7"
      }
    },
    {
      "cell_type": "code",
      "source": [
        "# Check if a word in your dataset exists in GloVe\n",
        "words = ['film', 'movie', 'good', 'bad', 'director','abraca']\n",
        "for word in words:\n",
        "    if word in glove_embeddings:\n",
        "        print(f\"{word}: Found\")\n",
        "    else:\n",
        "        print(f\"{word}: Not found\")"
      ],
      "metadata": {
        "colab": {
          "base_uri": "https://localhost:8080/"
        },
        "id": "NMLxnhIWkeV0",
        "outputId": "48951c04-2386-41de-89b1-b237cfa2b7d7"
      },
      "execution_count": 109,
      "outputs": [
        {
          "output_type": "stream",
          "name": "stdout",
          "text": [
            "film: Found\n",
            "movie: Found\n",
            "good: Found\n",
            "bad: Found\n",
            "director: Found\n",
            "abraca: Not found\n"
          ]
        }
      ]
    },
    {
      "cell_type": "markdown",
      "source": [
        "# 5.3 Visualize GloVe Word Embeddings"
      ],
      "metadata": {
        "id": "zFdpyfkBkx2u"
      }
    },
    {
      "cell_type": "code",
      "source": [
        "# Select words and their vectors\n",
        "target_words = ['film', 'movie', 'good', 'bad', 'love', 'hate', 'actor', 'director']\n",
        "word_vectors = [glove_embeddings[word] for word in target_words if word in glove_embeddings]\n",
        "\n",
        "# Reduce dimensions\n",
        "pca = PCA(n_components=2)\n",
        "result = pca.fit_transform(word_vectors)\n",
        "\n",
        "# Plot\n",
        "plt.figure(figsize=(10, 6))\n",
        "plt.scatter(result[:, 0], result[:, 1])\n",
        "for i, word in enumerate(target_words):\n",
        "    plt.annotate(word, (result[i, 0], result[i, 1]))\n",
        "plt.title(\"PCA of Pre-trained GloVe Embeddings\")\n",
        "plt.grid(True)\n",
        "plt.show()"
      ],
      "metadata": {
        "colab": {
          "base_uri": "https://localhost:8080/",
          "height": 545
        },
        "id": "mmxYx405kyol",
        "outputId": "d9448927-2ee4-469f-853c-ab7b64993ba8"
      },
      "execution_count": 110,
      "outputs": [
        {
          "output_type": "display_data",
          "data": {
            "text/plain": [
              "<Figure size 1000x600 with 1 Axes>"
            ],
            "image/png": "[encoded data removed]"
          },
          "metadata": {}
        }
      ]
    },
    {
      "cell_type": "markdown",
      "source": [
        "**🔍 Analysis:**\n",
        "\n",
        "**Type:** Pre-trained word embeddings (trained on massive corpora).\n",
        "\n",
        "**Benefit:** Captures global co-occurrence (not just local context).\n",
        "\n",
        "**Example:** 'film' close to 'movie', 'cinema', 'screen'.\n",
        "\n",
        "**Pre-trained Advantage:** Excellent generalization on small datasets.\n",
        "\n",
        "**Limitation:** Doesn’t handle out-of-vocabulary (OOV) words."
      ],
      "metadata": {
        "id": "T90qCELrm3vM"
      }
    },
    {
      "cell_type": "markdown",
      "source": [
        "#**6. FastText:**"
      ],
      "metadata": {
        "id": "B5F7ZZ0ZnWz8"
      }
    },
    {
      "cell_type": "markdown",
      "source": [
        "# 6.1 Train a FastText Model Using Gensim"
      ],
      "metadata": {
        "id": "jlIyGf9SnmWW"
      }
    },
    {
      "cell_type": "code",
      "source": [
        "# Use the same tokenized sentences\n",
        "sentences = [text.split() for text in df['clean_text']]\n",
        "\n",
        "# Train FastText model\n",
        "model_ft = FastText(sentences=sentences,\n",
        "                    vector_size=100,\n",
        "                    window=5,\n",
        "                    min_count=2,\n",
        "                    workers=4,\n",
        "                    sg=1)  # sg=1 for skip-gram"
      ],
      "metadata": {
        "id": "PLfEc11vnbZ1"
      },
      "execution_count": 111,
      "outputs": []
    },
    {
      "cell_type": "markdown",
      "source": [
        "#  6.2 Explore FastText Embeddings"
      ],
      "metadata": {
        "id": "fRqaG9rgpVHX"
      }
    },
    {
      "cell_type": "code",
      "source": [
        "# Most similar words to 'film'\n",
        "similar_words = model_ft.wv.most_similar('film', topn=5)\n",
        "print(\"Words most similar to 'film':\")\n",
        "for word, score in similar_words:\n",
        "    print(f\"{word}: {score:.3f}\")\n",
        "\n",
        "# Word vector\n",
        "print(\"\\nVector for 'film' (first 10 dims):\", model_ft.wv['film'][:10])"
      ],
      "metadata": {
        "colab": {
          "base_uri": "https://localhost:8080/"
        },
        "id": "DEpzLgozpV94",
        "outputId": "47e44747-402b-4090-e908-d9e935aed14c"
      },
      "execution_count": 112,
      "outputs": [
        {
          "output_type": "stream",
          "name": "stdout",
          "text": [
            "Words most similar to 'film':\n",
            "stalker: 0.663\n",
            "films: 0.630\n",
            "stalked: 0.628\n",
            "stalkers: 0.614\n",
            "stars: 0.594\n",
            "\n",
            "Vector for 'film' (first 10 dims): [-5.4377259e-04 -3.3550572e-05  6.2407821e-04  2.1479389e-05\n",
            "  7.9439319e-04  3.0361272e-03 -2.2040908e-03  5.2112709e-03\n",
            "  4.2563798e-03 -1.9941384e-03]\n"
          ]
        }
      ]
    },
    {
      "cell_type": "markdown",
      "source": [
        "Unlike Word2Vec and GloVe, FastText breaks words into character n-grams. This means it can:\n",
        "\n",
        "* Understand unseen or rare words.\n",
        "\n",
        "* Capture morphological info (e.g., running, runner, ran are closer).\n",
        "\n",
        "* Handle misspellings and compound words better."
      ],
      "metadata": {
        "id": "R2Wsw7UdptY8"
      }
    },
    {
      "cell_type": "markdown",
      "source": [
        "**6.2.1 Visualize FastText Embeddings**"
      ],
      "metadata": {
        "id": "xvDFPqBNqCmM"
      }
    },
    {
      "cell_type": "code",
      "source": [
        "# Select a list of words\n",
        "words = ['film', 'movie', 'good', 'bad', 'actor', 'hate', 'love', 'comedy', 'drama', 'director']\n",
        "word_vectors = [model_ft.wv[w] for w in words if w in model_ft.wv]\n",
        "\n",
        "# Reduce to 2D\n",
        "pca = PCA(n_components=2)\n",
        "reduced = pca.fit_transform(word_vectors)\n",
        "\n",
        "# Plot\n",
        "plt.figure(figsize=(10,6))\n",
        "plt.scatter(reduced[:, 0], reduced[:, 1])\n",
        "for i, word in enumerate(words):\n",
        "    plt.annotate(word, (reduced[i, 0], reduced[i, 1]))\n",
        "plt.title(\"PCA of FastText Embeddings\")\n",
        "plt.grid(True)\n",
        "plt.show()"
      ],
      "metadata": {
        "colab": {
          "base_uri": "https://localhost:8080/",
          "height": 545
        },
        "id": "Q0PJJbkopu51",
        "outputId": "7d6adf16-0e5b-48d5-bcf7-78c8200798e0"
      },
      "execution_count": 113,
      "outputs": [
        {
          "output_type": "display_data",
          "data": {
            "text/plain": [
              "<Figure size 1000x600 with 1 Axes>"
            ],
            "image/png": "[encoded data removed]"
          },
          "metadata": {}
        }
      ]
    },
    {
      "cell_type": "markdown",
      "source": [
        "**6.2.2 Comparision with Word2Vec and GloVe**"
      ],
      "metadata": {
        "id": "0-2fMaz_rto2"
      }
    },
    {
      "cell_type": "markdown",
      "source": [
        "| Feature              | Word2Vec | GloVe  | FastText        |\n",
        "| -------------------- | -------- | ------ | --------------- |\n",
        "| Context              | Local    | Global | Local + Subword |\n",
        "| Pretrained Available | ✅        | ✅      | ✅               |\n",
        "| Handles OOV Words    | ❌        | ❌      | ✅               |\n",
        "| Morphological Info   | ❌        | ❌      | ✅               |\n",
        "| Training Speed       | Fast     | Medium | Slower          |\n"
      ],
      "metadata": {
        "id": "G9FYwqDvrZgu"
      }
    },
    {
      "cell_type": "markdown",
      "source": [
        "**🔍 Analysis:**\n",
        "\n",
        "* **Model Used:** Gensim FastText (vector_size=100, window=5, sg=1)\n",
        "\n",
        "* **Core Strength:** Learns embeddings using both words and subwords (character n-grams).\n",
        "\n",
        "* **Advantage Over Word2Vec/GloVe:**\n",
        "\n",
        "    * Handles out-of-vocabulary words\n",
        "\n",
        "    * Learns from rare or unseen words\n",
        "\n",
        "* **Example:** Even if unwatchedfilm doesn’t exist, FastText can infer its vector from parts like un, watch, film.\n",
        "\n",
        "* **Visualization:** Related words cluster well; morphological relationships preserved."
      ],
      "metadata": {
        "id": "o_47iew9qW6j"
      }
    }
  ]
}